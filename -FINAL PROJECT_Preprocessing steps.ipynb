{
 "cells": [
  {
   "cell_type": "markdown",
   "id": "3abe1def-92a0-464f-ac26-a42163680e11",
   "metadata": {},
   "source": [
    "# Import Libraries"
   ]
  },
  {
   "cell_type": "code",
   "execution_count": 2,
   "id": "0a026a68-0ffc-414b-aa24-39e040f899df",
   "metadata": {},
   "outputs": [],
   "source": [
    "import pandas as pd\n",
    "import numpy as np\n",
    "import matplotlib.pyplot as plt\n",
    "import seaborn as sns\n",
    "from datetime import datetime\n",
    "from sklearn.preprocessing import LabelEncoder, StandardScaler\n",
    "from sklearn.model_selection import train_test_split"
   ]
  },
  {
   "cell_type": "markdown",
   "id": "10449ce6-818c-4691-90b7-95cc3216f479",
   "metadata": {},
   "source": [
    "# Loading and Preprocessing"
   ]
  },
  {
   "cell_type": "code",
   "execution_count": 5,
   "id": "76c40305-443c-4e49-8910-e074c95676e7",
   "metadata": {},
   "outputs": [],
   "source": [
    "df = pd.read_csv(\"C:/Users/AmalDev/OneDrive/Desktop/Electric_Vehicle_Population_Data.csv\")"
   ]
  },
  {
   "cell_type": "markdown",
   "id": "5aaddb59-5af8-458c-b8f8-2e254b2ec70b",
   "metadata": {},
   "source": [
    "## Preprocessing"
   ]
  },
  {
   "cell_type": "code",
   "execution_count": 8,
   "id": "615f3e83-7a5c-489f-bf8c-019a1b884e94",
   "metadata": {},
   "outputs": [
    {
     "name": "stdout",
     "output_type": "stream",
     "text": [
      "Rows: 247344\n",
      "Columns: 17\n"
     ]
    }
   ],
   "source": [
    "# Check Rows and Columns\n",
    "print(\"Rows:\", df.shape[0])\n",
    "print(\"Columns:\", df.shape[1])"
   ]
  },
  {
   "cell_type": "code",
   "execution_count": 10,
   "id": "75f4c095-1e9b-4ff7-beb2-006206105cc8",
   "metadata": {},
   "outputs": [
    {
     "name": "stdout",
     "output_type": "stream",
     "text": [
      "['VIN (1-10)', 'County', 'City', 'State', 'Postal Code', 'Model Year', 'Make', 'Model', 'Electric Vehicle Type', 'Clean Alternative Fuel Vehicle (CAFV) Eligibility', 'Electric Range', 'Base MSRP', 'Legislative District', 'DOL Vehicle ID', 'Vehicle Location', 'Electric Utility', '2020 Census Tract']\n"
     ]
    }
   ],
   "source": [
    "# Clean and View Column Names\n",
    "df.columns = df.columns.str.strip()\n",
    "print(df.columns.tolist())"
   ]
  },
  {
   "cell_type": "code",
   "execution_count": 12,
   "id": "804588e7-cc92-4556-8bfb-b00b49ae84ac",
   "metadata": {},
   "outputs": [
    {
     "data": {
      "text/html": [
       "<div>\n",
       "<style scoped>\n",
       "    .dataframe tbody tr th:only-of-type {\n",
       "        vertical-align: middle;\n",
       "    }\n",
       "\n",
       "    .dataframe tbody tr th {\n",
       "        vertical-align: top;\n",
       "    }\n",
       "\n",
       "    .dataframe thead th {\n",
       "        text-align: right;\n",
       "    }\n",
       "</style>\n",
       "<table border=\"1\" class=\"dataframe\">\n",
       "  <thead>\n",
       "    <tr style=\"text-align: right;\">\n",
       "      <th></th>\n",
       "      <th>VIN (1-10)</th>\n",
       "      <th>County</th>\n",
       "      <th>City</th>\n",
       "      <th>State</th>\n",
       "      <th>Postal Code</th>\n",
       "      <th>Model Year</th>\n",
       "      <th>Make</th>\n",
       "      <th>Model</th>\n",
       "      <th>Electric Vehicle Type</th>\n",
       "      <th>Clean Alternative Fuel Vehicle (CAFV) Eligibility</th>\n",
       "      <th>Electric Range</th>\n",
       "      <th>Base MSRP</th>\n",
       "      <th>Legislative District</th>\n",
       "      <th>DOL Vehicle ID</th>\n",
       "      <th>Vehicle Location</th>\n",
       "      <th>Electric Utility</th>\n",
       "      <th>2020 Census Tract</th>\n",
       "    </tr>\n",
       "  </thead>\n",
       "  <tbody>\n",
       "    <tr>\n",
       "      <th>0</th>\n",
       "      <td>1N4BZ0CP5G</td>\n",
       "      <td>King</td>\n",
       "      <td>Seattle</td>\n",
       "      <td>WA</td>\n",
       "      <td>98125.0</td>\n",
       "      <td>2016</td>\n",
       "      <td>NISSAN</td>\n",
       "      <td>LEAF</td>\n",
       "      <td>Battery Electric Vehicle (BEV)</td>\n",
       "      <td>Clean Alternative Fuel Vehicle Eligible</td>\n",
       "      <td>84.0</td>\n",
       "      <td>0.0</td>\n",
       "      <td>46.0</td>\n",
       "      <td>349455557</td>\n",
       "      <td>POINT (-122.30253 47.72656)</td>\n",
       "      <td>CITY OF SEATTLE - (WA)|CITY OF TACOMA - (WA)</td>\n",
       "      <td>5.303300e+10</td>\n",
       "    </tr>\n",
       "    <tr>\n",
       "      <th>1</th>\n",
       "      <td>KNDJX3AEXG</td>\n",
       "      <td>King</td>\n",
       "      <td>Renton</td>\n",
       "      <td>WA</td>\n",
       "      <td>98058.0</td>\n",
       "      <td>2016</td>\n",
       "      <td>KIA</td>\n",
       "      <td>SOUL</td>\n",
       "      <td>Battery Electric Vehicle (BEV)</td>\n",
       "      <td>Clean Alternative Fuel Vehicle Eligible</td>\n",
       "      <td>93.0</td>\n",
       "      <td>31950.0</td>\n",
       "      <td>11.0</td>\n",
       "      <td>210641315</td>\n",
       "      <td>POINT (-122.08747 47.4466)</td>\n",
       "      <td>PUGET SOUND ENERGY INC||CITY OF TACOMA - (WA)</td>\n",
       "      <td>5.303303e+10</td>\n",
       "    </tr>\n",
       "    <tr>\n",
       "      <th>2</th>\n",
       "      <td>5YJ3E1EB2J</td>\n",
       "      <td>King</td>\n",
       "      <td>Seattle</td>\n",
       "      <td>WA</td>\n",
       "      <td>98115.0</td>\n",
       "      <td>2018</td>\n",
       "      <td>TESLA</td>\n",
       "      <td>MODEL 3</td>\n",
       "      <td>Battery Electric Vehicle (BEV)</td>\n",
       "      <td>Clean Alternative Fuel Vehicle Eligible</td>\n",
       "      <td>215.0</td>\n",
       "      <td>0.0</td>\n",
       "      <td>43.0</td>\n",
       "      <td>171417494</td>\n",
       "      <td>POINT (-122.31676 47.68156)</td>\n",
       "      <td>CITY OF SEATTLE - (WA)|CITY OF TACOMA - (WA)</td>\n",
       "      <td>5.303300e+10</td>\n",
       "    </tr>\n",
       "    <tr>\n",
       "      <th>3</th>\n",
       "      <td>1C4RJXN64R</td>\n",
       "      <td>Kitsap</td>\n",
       "      <td>Bremerton</td>\n",
       "      <td>WA</td>\n",
       "      <td>98312.0</td>\n",
       "      <td>2024</td>\n",
       "      <td>JEEP</td>\n",
       "      <td>WRANGLER</td>\n",
       "      <td>Plug-in Hybrid Electric Vehicle (PHEV)</td>\n",
       "      <td>Not eligible due to low battery range</td>\n",
       "      <td>21.0</td>\n",
       "      <td>0.0</td>\n",
       "      <td>26.0</td>\n",
       "      <td>262542927</td>\n",
       "      <td>POINT (-122.65223 47.57192)</td>\n",
       "      <td>PUGET SOUND ENERGY INC</td>\n",
       "      <td>5.303508e+10</td>\n",
       "    </tr>\n",
       "    <tr>\n",
       "      <th>4</th>\n",
       "      <td>5YJ3E1EB1J</td>\n",
       "      <td>Thurston</td>\n",
       "      <td>Olympia</td>\n",
       "      <td>WA</td>\n",
       "      <td>98512.0</td>\n",
       "      <td>2018</td>\n",
       "      <td>TESLA</td>\n",
       "      <td>MODEL 3</td>\n",
       "      <td>Battery Electric Vehicle (BEV)</td>\n",
       "      <td>Clean Alternative Fuel Vehicle Eligible</td>\n",
       "      <td>215.0</td>\n",
       "      <td>0.0</td>\n",
       "      <td>35.0</td>\n",
       "      <td>110432815</td>\n",
       "      <td>POINT (-122.9131 47.01359)</td>\n",
       "      <td>PUGET SOUND ENERGY INC</td>\n",
       "      <td>5.306701e+10</td>\n",
       "    </tr>\n",
       "  </tbody>\n",
       "</table>\n",
       "</div>"
      ],
      "text/plain": [
       "   VIN (1-10)    County       City State  Postal Code  Model Year    Make  \\\n",
       "0  1N4BZ0CP5G      King    Seattle    WA      98125.0        2016  NISSAN   \n",
       "1  KNDJX3AEXG      King     Renton    WA      98058.0        2016     KIA   \n",
       "2  5YJ3E1EB2J      King    Seattle    WA      98115.0        2018   TESLA   \n",
       "3  1C4RJXN64R    Kitsap  Bremerton    WA      98312.0        2024    JEEP   \n",
       "4  5YJ3E1EB1J  Thurston    Olympia    WA      98512.0        2018   TESLA   \n",
       "\n",
       "      Model                   Electric Vehicle Type  \\\n",
       "0      LEAF          Battery Electric Vehicle (BEV)   \n",
       "1      SOUL          Battery Electric Vehicle (BEV)   \n",
       "2   MODEL 3          Battery Electric Vehicle (BEV)   \n",
       "3  WRANGLER  Plug-in Hybrid Electric Vehicle (PHEV)   \n",
       "4   MODEL 3          Battery Electric Vehicle (BEV)   \n",
       "\n",
       "  Clean Alternative Fuel Vehicle (CAFV) Eligibility  Electric Range  \\\n",
       "0           Clean Alternative Fuel Vehicle Eligible            84.0   \n",
       "1           Clean Alternative Fuel Vehicle Eligible            93.0   \n",
       "2           Clean Alternative Fuel Vehicle Eligible           215.0   \n",
       "3             Not eligible due to low battery range            21.0   \n",
       "4           Clean Alternative Fuel Vehicle Eligible           215.0   \n",
       "\n",
       "   Base MSRP  Legislative District  DOL Vehicle ID  \\\n",
       "0        0.0                  46.0       349455557   \n",
       "1    31950.0                  11.0       210641315   \n",
       "2        0.0                  43.0       171417494   \n",
       "3        0.0                  26.0       262542927   \n",
       "4        0.0                  35.0       110432815   \n",
       "\n",
       "              Vehicle Location                               Electric Utility  \\\n",
       "0  POINT (-122.30253 47.72656)   CITY OF SEATTLE - (WA)|CITY OF TACOMA - (WA)   \n",
       "1   POINT (-122.08747 47.4466)  PUGET SOUND ENERGY INC||CITY OF TACOMA - (WA)   \n",
       "2  POINT (-122.31676 47.68156)   CITY OF SEATTLE - (WA)|CITY OF TACOMA - (WA)   \n",
       "3  POINT (-122.65223 47.57192)                         PUGET SOUND ENERGY INC   \n",
       "4   POINT (-122.9131 47.01359)                         PUGET SOUND ENERGY INC   \n",
       "\n",
       "   2020 Census Tract  \n",
       "0       5.303300e+10  \n",
       "1       5.303303e+10  \n",
       "2       5.303300e+10  \n",
       "3       5.303508e+10  \n",
       "4       5.306701e+10  "
      ]
     },
     "metadata": {},
     "output_type": "display_data"
    }
   ],
   "source": [
    "# Head of the data\n",
    "display(df.head())"
   ]
  },
  {
   "cell_type": "code",
   "execution_count": 14,
   "id": "81b8301f-efd5-4c4a-ba3a-2735df98bb32",
   "metadata": {},
   "outputs": [
    {
     "data": {
      "text/html": [
       "<div>\n",
       "<style scoped>\n",
       "    .dataframe tbody tr th:only-of-type {\n",
       "        vertical-align: middle;\n",
       "    }\n",
       "\n",
       "    .dataframe tbody tr th {\n",
       "        vertical-align: top;\n",
       "    }\n",
       "\n",
       "    .dataframe thead th {\n",
       "        text-align: right;\n",
       "    }\n",
       "</style>\n",
       "<table border=\"1\" class=\"dataframe\">\n",
       "  <thead>\n",
       "    <tr style=\"text-align: right;\">\n",
       "      <th></th>\n",
       "      <th>VIN (1-10)</th>\n",
       "      <th>County</th>\n",
       "      <th>City</th>\n",
       "      <th>State</th>\n",
       "      <th>Postal Code</th>\n",
       "      <th>Model Year</th>\n",
       "      <th>Make</th>\n",
       "      <th>Model</th>\n",
       "      <th>Electric Vehicle Type</th>\n",
       "      <th>Clean Alternative Fuel Vehicle (CAFV) Eligibility</th>\n",
       "      <th>Electric Range</th>\n",
       "      <th>Base MSRP</th>\n",
       "      <th>Legislative District</th>\n",
       "      <th>DOL Vehicle ID</th>\n",
       "      <th>Vehicle Location</th>\n",
       "      <th>Electric Utility</th>\n",
       "      <th>2020 Census Tract</th>\n",
       "    </tr>\n",
       "  </thead>\n",
       "  <tbody>\n",
       "    <tr>\n",
       "      <th>247339</th>\n",
       "      <td>7G2CEHED0R</td>\n",
       "      <td>King</td>\n",
       "      <td>Newcastle</td>\n",
       "      <td>WA</td>\n",
       "      <td>98056.0</td>\n",
       "      <td>2024</td>\n",
       "      <td>TESLA</td>\n",
       "      <td>CYBERTRUCK</td>\n",
       "      <td>Battery Electric Vehicle (BEV)</td>\n",
       "      <td>Eligibility unknown as battery range has not b...</td>\n",
       "      <td>0.0</td>\n",
       "      <td>0.0</td>\n",
       "      <td>41.0</td>\n",
       "      <td>278417947</td>\n",
       "      <td>POINT (-122.1805 47.50006)</td>\n",
       "      <td>PUGET SOUND ENERGY INC||CITY OF TACOMA - (WA)</td>\n",
       "      <td>5.303303e+10</td>\n",
       "    </tr>\n",
       "    <tr>\n",
       "      <th>247340</th>\n",
       "      <td>1C4RJYC65R</td>\n",
       "      <td>Pierce</td>\n",
       "      <td>Puyallup</td>\n",
       "      <td>WA</td>\n",
       "      <td>98374.0</td>\n",
       "      <td>2024</td>\n",
       "      <td>JEEP</td>\n",
       "      <td>GRAND CHEROKEE</td>\n",
       "      <td>Plug-in Hybrid Electric Vehicle (PHEV)</td>\n",
       "      <td>Not eligible due to low battery range</td>\n",
       "      <td>25.0</td>\n",
       "      <td>0.0</td>\n",
       "      <td>25.0</td>\n",
       "      <td>271451197</td>\n",
       "      <td>POINT (-122.27575 47.13959)</td>\n",
       "      <td>PUGET SOUND ENERGY INC||CITY OF TACOMA - (WA)</td>\n",
       "      <td>5.305307e+10</td>\n",
       "    </tr>\n",
       "    <tr>\n",
       "      <th>247341</th>\n",
       "      <td>7SAYGDEE0P</td>\n",
       "      <td>King</td>\n",
       "      <td>Bothell</td>\n",
       "      <td>WA</td>\n",
       "      <td>98011.0</td>\n",
       "      <td>2023</td>\n",
       "      <td>TESLA</td>\n",
       "      <td>MODEL Y</td>\n",
       "      <td>Battery Electric Vehicle (BEV)</td>\n",
       "      <td>Eligibility unknown as battery range has not b...</td>\n",
       "      <td>0.0</td>\n",
       "      <td>0.0</td>\n",
       "      <td>1.0</td>\n",
       "      <td>249563667</td>\n",
       "      <td>POINT (-122.20563 47.76144)</td>\n",
       "      <td>PUGET SOUND ENERGY INC||CITY OF TACOMA - (WA)</td>\n",
       "      <td>5.303302e+10</td>\n",
       "    </tr>\n",
       "    <tr>\n",
       "      <th>247342</th>\n",
       "      <td>KNDPYDAH9P</td>\n",
       "      <td>Kitsap</td>\n",
       "      <td>Bainbridge Island</td>\n",
       "      <td>WA</td>\n",
       "      <td>98110.0</td>\n",
       "      <td>2023</td>\n",
       "      <td>KIA</td>\n",
       "      <td>SPORTAGE</td>\n",
       "      <td>Plug-in Hybrid Electric Vehicle (PHEV)</td>\n",
       "      <td>Clean Alternative Fuel Vehicle Eligible</td>\n",
       "      <td>34.0</td>\n",
       "      <td>0.0</td>\n",
       "      <td>23.0</td>\n",
       "      <td>238968376</td>\n",
       "      <td>POINT (-122.521 47.62728)</td>\n",
       "      <td>PUGET SOUND ENERGY INC</td>\n",
       "      <td>5.303509e+10</td>\n",
       "    </tr>\n",
       "    <tr>\n",
       "      <th>247343</th>\n",
       "      <td>KNDPZDAH8P</td>\n",
       "      <td>Whatcom</td>\n",
       "      <td>Bellingham</td>\n",
       "      <td>WA</td>\n",
       "      <td>98226.0</td>\n",
       "      <td>2023</td>\n",
       "      <td>KIA</td>\n",
       "      <td>SPORTAGE</td>\n",
       "      <td>Plug-in Hybrid Electric Vehicle (PHEV)</td>\n",
       "      <td>Clean Alternative Fuel Vehicle Eligible</td>\n",
       "      <td>34.0</td>\n",
       "      <td>0.0</td>\n",
       "      <td>42.0</td>\n",
       "      <td>253768637</td>\n",
       "      <td>POINT (-122.49756 48.7999)</td>\n",
       "      <td>PUGET SOUND ENERGY INC||PUD NO 1 OF WHATCOM CO...</td>\n",
       "      <td>5.307300e+10</td>\n",
       "    </tr>\n",
       "  </tbody>\n",
       "</table>\n",
       "</div>"
      ],
      "text/plain": [
       "        VIN (1-10)   County               City State  Postal Code  Model Year  \\\n",
       "247339  7G2CEHED0R     King          Newcastle    WA      98056.0        2024   \n",
       "247340  1C4RJYC65R   Pierce           Puyallup    WA      98374.0        2024   \n",
       "247341  7SAYGDEE0P     King            Bothell    WA      98011.0        2023   \n",
       "247342  KNDPYDAH9P   Kitsap  Bainbridge Island    WA      98110.0        2023   \n",
       "247343  KNDPZDAH8P  Whatcom         Bellingham    WA      98226.0        2023   \n",
       "\n",
       "         Make           Model                   Electric Vehicle Type  \\\n",
       "247339  TESLA      CYBERTRUCK          Battery Electric Vehicle (BEV)   \n",
       "247340   JEEP  GRAND CHEROKEE  Plug-in Hybrid Electric Vehicle (PHEV)   \n",
       "247341  TESLA         MODEL Y          Battery Electric Vehicle (BEV)   \n",
       "247342    KIA        SPORTAGE  Plug-in Hybrid Electric Vehicle (PHEV)   \n",
       "247343    KIA        SPORTAGE  Plug-in Hybrid Electric Vehicle (PHEV)   \n",
       "\n",
       "        Clean Alternative Fuel Vehicle (CAFV) Eligibility  Electric Range  \\\n",
       "247339  Eligibility unknown as battery range has not b...             0.0   \n",
       "247340              Not eligible due to low battery range            25.0   \n",
       "247341  Eligibility unknown as battery range has not b...             0.0   \n",
       "247342            Clean Alternative Fuel Vehicle Eligible            34.0   \n",
       "247343            Clean Alternative Fuel Vehicle Eligible            34.0   \n",
       "\n",
       "        Base MSRP  Legislative District  DOL Vehicle ID  \\\n",
       "247339        0.0                  41.0       278417947   \n",
       "247340        0.0                  25.0       271451197   \n",
       "247341        0.0                   1.0       249563667   \n",
       "247342        0.0                  23.0       238968376   \n",
       "247343        0.0                  42.0       253768637   \n",
       "\n",
       "                   Vehicle Location  \\\n",
       "247339   POINT (-122.1805 47.50006)   \n",
       "247340  POINT (-122.27575 47.13959)   \n",
       "247341  POINT (-122.20563 47.76144)   \n",
       "247342    POINT (-122.521 47.62728)   \n",
       "247343   POINT (-122.49756 48.7999)   \n",
       "\n",
       "                                         Electric Utility  2020 Census Tract  \n",
       "247339      PUGET SOUND ENERGY INC||CITY OF TACOMA - (WA)       5.303303e+10  \n",
       "247340      PUGET SOUND ENERGY INC||CITY OF TACOMA - (WA)       5.305307e+10  \n",
       "247341      PUGET SOUND ENERGY INC||CITY OF TACOMA - (WA)       5.303302e+10  \n",
       "247342                             PUGET SOUND ENERGY INC       5.303509e+10  \n",
       "247343  PUGET SOUND ENERGY INC||PUD NO 1 OF WHATCOM CO...       5.307300e+10  "
      ]
     },
     "metadata": {},
     "output_type": "display_data"
    }
   ],
   "source": [
    "# Tail of the data\n",
    "display(df.tail())"
   ]
  },
  {
   "cell_type": "code",
   "execution_count": 18,
   "id": "3529ee2e-de1f-4d07-86b4-027d100256ef",
   "metadata": {},
   "outputs": [
    {
     "name": "stdout",
     "output_type": "stream",
     "text": [
      "<class 'pandas.core.frame.DataFrame'>\n",
      "RangeIndex: 247344 entries, 0 to 247343\n",
      "Data columns (total 17 columns):\n",
      " #   Column                                             Non-Null Count   Dtype  \n",
      "---  ------                                             --------------   -----  \n",
      " 0   VIN (1-10)                                         247344 non-null  object \n",
      " 1   County                                             247340 non-null  object \n",
      " 2   City                                               247340 non-null  object \n",
      " 3   State                                              247344 non-null  object \n",
      " 4   Postal Code                                        247340 non-null  float64\n",
      " 5   Model Year                                         247344 non-null  int64  \n",
      " 6   Make                                               247344 non-null  object \n",
      " 7   Model                                              247344 non-null  object \n",
      " 8   Electric Vehicle Type                              247344 non-null  object \n",
      " 9   Clean Alternative Fuel Vehicle (CAFV) Eligibility  247344 non-null  object \n",
      " 10  Electric Range                                     247324 non-null  float64\n",
      " 11  Base MSRP                                          247324 non-null  float64\n",
      " 12  Legislative District                               246791 non-null  float64\n",
      " 13  DOL Vehicle ID                                     247344 non-null  int64  \n",
      " 14  Vehicle Location                                   247333 non-null  object \n",
      " 15  Electric Utility                                   247340 non-null  object \n",
      " 16  2020 Census Tract                                  247340 non-null  float64\n",
      "dtypes: float64(5), int64(2), object(10)\n",
      "memory usage: 32.1+ MB\n"
     ]
    }
   ],
   "source": [
    "# Dataset Info\n",
    "df.info()"
   ]
  },
  {
   "cell_type": "code",
   "execution_count": 20,
   "id": "489b8e1e-3f3b-48f6-82bb-3b1a29a05c7d",
   "metadata": {},
   "outputs": [
    {
     "name": "stdout",
     "output_type": "stream",
     "text": [
      "         Postal Code     Model Year  Electric Range      Base MSRP  \\\n",
      "count  247340.000000  247344.000000   247324.000000  247324.000000   \n",
      "mean    98180.773999    2021.572450       44.645659     740.206308   \n",
      "std      2496.155753       3.014246       82.945315    6971.140984   \n",
      "min      1731.000000    2000.000000        0.000000       0.000000   \n",
      "25%     98052.000000    2020.000000        0.000000       0.000000   \n",
      "50%     98125.000000    2023.000000        0.000000       0.000000   \n",
      "75%     98382.000000    2024.000000       37.000000       0.000000   \n",
      "max     99577.000000    2026.000000      337.000000  845000.000000   \n",
      "\n",
      "       Legislative District  DOL Vehicle ID  2020 Census Tract  \n",
      "count         246791.000000    2.473440e+05       2.473400e+05  \n",
      "mean              29.039924    2.382157e+08       5.297516e+10  \n",
      "std               14.857603    6.709585e+07       1.606887e+09  \n",
      "min                1.000000    4.385000e+03       1.001020e+09  \n",
      "25%               18.000000    2.089133e+08       5.303301e+10  \n",
      "50%               33.000000    2.560989e+08       5.303303e+10  \n",
      "75%               42.000000    2.723745e+08       5.305307e+10  \n",
      "max               49.000000    4.792548e+08       6.601095e+10  \n"
     ]
    }
   ],
   "source": [
    "# Descriptive Statistics\n",
    "print(df.describe())"
   ]
  },
  {
   "cell_type": "code",
   "execution_count": 22,
   "id": "476f64c0-09ab-43ff-a947-bb17b8634187",
   "metadata": {},
   "outputs": [
    {
     "name": "stdout",
     "output_type": "stream",
     "text": [
      "Missing values:\n",
      " VIN (1-10)                                             0\n",
      "County                                                 4\n",
      "City                                                   4\n",
      "State                                                  0\n",
      "Postal Code                                            4\n",
      "Model Year                                             0\n",
      "Make                                                   0\n",
      "Model                                                  0\n",
      "Electric Vehicle Type                                  0\n",
      "Clean Alternative Fuel Vehicle (CAFV) Eligibility      0\n",
      "Electric Range                                        20\n",
      "Base MSRP                                             20\n",
      "Legislative District                                 553\n",
      "DOL Vehicle ID                                         0\n",
      "Vehicle Location                                      11\n",
      "Electric Utility                                       4\n",
      "2020 Census Tract                                      4\n",
      "dtype: int64\n",
      "Duplicate rows: 0\n"
     ]
    }
   ],
   "source": [
    "# Check Missing and Duplicate Values\n",
    "print(\"Missing values:\\n\", df.isnull().sum())\n",
    "print(\"Duplicate rows:\", df.duplicated().sum())"
   ]
  },
  {
   "cell_type": "code",
   "execution_count": 24,
   "id": "7efecc3e-9b91-47b8-af2b-7b1bd21e6af0",
   "metadata": {},
   "outputs": [
    {
     "name": "stdout",
     "output_type": "stream",
     "text": [
      "Electric Vehicle Type:\n",
      " Electric Vehicle Type\n",
      "Battery Electric Vehicle (BEV)            197146\n",
      "Plug-in Hybrid Electric Vehicle (PHEV)     50198\n",
      "Name: count, dtype: int64\n",
      "\n",
      "Top 10 Makes:\n",
      " Make\n",
      "TESLA        105001\n",
      "CHEVROLET     17840\n",
      "NISSAN        15892\n",
      "FORD          13270\n",
      "KIA           11978\n",
      "BMW           10370\n",
      "TOYOTA        10245\n",
      "HYUNDAI        8048\n",
      "RIVIAN         7491\n",
      "VOLVO          6428\n",
      "Name: count, dtype: int64\n",
      "\n",
      "Model Year Distribution:\n",
      " Model Year\n",
      "2000        8\n",
      "2002        2\n",
      "2003        1\n",
      "2008       17\n",
      "2010       23\n",
      "2011      656\n",
      "2012     1462\n",
      "2013     4168\n",
      "2014     3364\n",
      "2015     4613\n",
      "2016     5302\n",
      "2017     8755\n",
      "2018    14504\n",
      "2019    11055\n",
      "2020    12390\n",
      "2021    20794\n",
      "2022    29337\n",
      "2023    59088\n",
      "2024    49799\n",
      "2025    20820\n",
      "2026     1186\n",
      "Name: count, dtype: int64\n"
     ]
    }
   ],
   "source": [
    "# Check Value Counts for Key Categorical Columns\n",
    "print(\"Electric Vehicle Type:\\n\", df['Electric Vehicle Type'].value_counts())\n",
    "print(\"\\nTop 10 Makes:\\n\", df['Make'].value_counts().head(10))\n",
    "print(\"\\nModel Year Distribution:\\n\", df['Model Year'].value_counts().sort_index())"
   ]
  },
  {
   "cell_type": "code",
   "execution_count": 26,
   "id": "c606c709-6410-4626-a5e7-d123a73463e6",
   "metadata": {},
   "outputs": [
    {
     "name": "stdout",
     "output_type": "stream",
     "text": [
      "Unique value count per column:\n",
      " VIN (1-10)                                            14792\n",
      "County                                                  215\n",
      "City                                                    807\n",
      "State                                                    49\n",
      "Postal Code                                             998\n",
      "Model Year                                               21\n",
      "Make                                                     46\n",
      "Model                                                   177\n",
      "Electric Vehicle Type                                     2\n",
      "Clean Alternative Fuel Vehicle (CAFV) Eligibility         3\n",
      "Electric Range                                          111\n",
      "Base MSRP                                                31\n",
      "Legislative District                                     49\n",
      "DOL Vehicle ID                                       247344\n",
      "Vehicle Location                                        997\n",
      "Electric Utility                                         75\n",
      "2020 Census Tract                                      2252\n",
      "dtype: int64\n"
     ]
    }
   ],
   "source": [
    "# Unique Value Counts\n",
    "print(\"Unique value count per column:\\n\", df.nunique())"
   ]
  },
  {
   "cell_type": "code",
   "execution_count": 28,
   "id": "e0ad868c-48f5-4744-abbb-c54e8aa2b006",
   "metadata": {},
   "outputs": [],
   "source": [
    "# Remove Repeated Header Rows (if any)\n",
    "df = df[df['VIN (1-10)'] != 'VIN (1-10)']\n",
    "df.reset_index(drop=True, inplace=True)"
   ]
  },
  {
   "cell_type": "markdown",
   "id": "7c9436f3-e8e1-4ee9-a288-fbfbf05e54fa",
   "metadata": {},
   "source": [
    "### Remove Duplicate Records"
   ]
  },
  {
   "cell_type": "code",
   "execution_count": 33,
   "id": "7df4895a-72db-439c-abcb-3f615f60d808",
   "metadata": {},
   "outputs": [],
   "source": [
    "df.drop_duplicates(inplace=True)"
   ]
  },
  {
   "cell_type": "markdown",
   "id": "3a7f76f4-f4d5-403f-8669-070a9abc23ce",
   "metadata": {},
   "source": [
    "### Handle Missing Values"
   ]
  },
  {
   "cell_type": "code",
   "execution_count": 36,
   "id": "d530aac4-72af-44d5-bf7b-6e6c9c33fa34",
   "metadata": {},
   "outputs": [
    {
     "name": "stderr",
     "output_type": "stream",
     "text": [
      "C:\\Users\\AmalDev\\AppData\\Local\\Temp\\ipykernel_5740\\1220478375.py:4: FutureWarning: A value is trying to be set on a copy of a DataFrame or Series through chained assignment using an inplace method.\n",
      "The behavior will change in pandas 3.0. This inplace method will never work because the intermediate object on which we are setting values always behaves as a copy.\n",
      "\n",
      "For example, when doing 'df[col].method(value, inplace=True)', try using 'df.method({col: value}, inplace=True)' or df[col] = df[col].method(value) instead, to perform the operation inplace on the original object.\n",
      "\n",
      "\n",
      "  df['Electric Range'].fillna(df['Electric Range'].median(), inplace=True)\n",
      "C:\\Users\\AmalDev\\AppData\\Local\\Temp\\ipykernel_5740\\1220478375.py:5: FutureWarning: A value is trying to be set on a copy of a DataFrame or Series through chained assignment using an inplace method.\n",
      "The behavior will change in pandas 3.0. This inplace method will never work because the intermediate object on which we are setting values always behaves as a copy.\n",
      "\n",
      "For example, when doing 'df[col].method(value, inplace=True)', try using 'df.method({col: value}, inplace=True)' or df[col] = df[col].method(value) instead, to perform the operation inplace on the original object.\n",
      "\n",
      "\n",
      "  df['Base MSRP'].fillna(df['Base MSRP'].median(), inplace=True)\n",
      "C:\\Users\\AmalDev\\AppData\\Local\\Temp\\ipykernel_5740\\1220478375.py:6: FutureWarning: Setting an item of incompatible dtype is deprecated and will raise an error in a future version of pandas. Value 'Unknown' has dtype incompatible with float64, please explicitly cast to a compatible dtype first.\n",
      "  df.fillna(\"Unknown\", inplace=True)\n"
     ]
    }
   ],
   "source": [
    "df['Electric Range'] = pd.to_numeric(df['Electric Range'], errors='coerce')\n",
    "df['Base MSRP'] = pd.to_numeric(df['Base MSRP'], errors='coerce')\n",
    "\n",
    "df['Electric Range'].fillna(df['Electric Range'].median(), inplace=True)\n",
    "df['Base MSRP'].fillna(df['Base MSRP'].median(), inplace=True)\n",
    "df.fillna(\"Unknown\", inplace=True)"
   ]
  },
  {
   "cell_type": "markdown",
   "id": "fef11c95-f2a3-46fe-bd08-f17fb4ac75a7",
   "metadata": {},
   "source": [
    "### Fix Data Types"
   ]
  },
  {
   "cell_type": "code",
   "execution_count": 39,
   "id": "f85383ee-4885-443d-9bbc-26943a5620df",
   "metadata": {},
   "outputs": [],
   "source": [
    "df['Model Year'] = df['Model Year'].astype(int)\n",
    "df['Postal Code'] = df['Postal Code'].astype(str).str[:5]"
   ]
  },
  {
   "cell_type": "markdown",
   "id": "775b93d9-0dae-470c-a60f-53f710b2c6ce",
   "metadata": {},
   "source": [
    "### Clean Text Columns"
   ]
  },
  {
   "cell_type": "code",
   "execution_count": 42,
   "id": "1663d934-1e05-4621-b6e9-edc7d52cfeb7",
   "metadata": {},
   "outputs": [],
   "source": [
    "text_cols = ['Make', 'Model', 'City', 'County', 'Electric Vehicle Type', 'Electric Utility']\n",
    "for col in text_cols:\n",
    "    df[col] = df[col].astype(str).str.strip().str.lower()"
   ]
  },
  {
   "cell_type": "markdown",
   "id": "e8594990-bedd-4d42-b391-22a20a0ae89f",
   "metadata": {},
   "source": [
    "### Feature Engineering"
   ]
  },
  {
   "cell_type": "code",
   "execution_count": 45,
   "id": "3b2ddcef-93f3-463e-8b7c-55a0c3f2bcd4",
   "metadata": {},
   "outputs": [],
   "source": [
    "current_year = datetime.now().year\n",
    "df['Vehicle Age'] = current_year - df['Model Year']\n",
    "\n",
    "df['Range Category'] = pd.cut(df['Electric Range'], bins=[0, 80, 200, 1000],\n",
    "                              labels=['Short', 'Medium', 'Long'])\n",
    "\n",
    "df['Is CAFV Eligible'] = df['Clean Alternative Fuel Vehicle (CAFV) Eligibility']\\\n",
    "    .apply(lambda x: 1 if 'eligible' in str(x).lower() else 0)"
   ]
  },
  {
   "cell_type": "markdown",
   "id": "29737adc-244c-4a72-a28e-ecfc9152633b",
   "metadata": {},
   "source": [
    "### Drop Irrelevant Columns"
   ]
  },
  {
   "cell_type": "code",
   "execution_count": 48,
   "id": "75d1b5a1-5630-4fdb-b374-6d6f1899f8a7",
   "metadata": {},
   "outputs": [],
   "source": [
    "df.drop(columns=['VIN (1-10)', 'DOL Vehicle ID', 'Vehicle Location', '2020 Census Tract'],\n",
    "        errors='ignore', inplace=True)"
   ]
  },
  {
   "cell_type": "markdown",
   "id": "c679002a-3172-4d41-b1c3-d9845c95b614",
   "metadata": {},
   "source": [
    "### Encode Categorical Variables"
   ]
  },
  {
   "cell_type": "code",
   "execution_count": 53,
   "id": "a911d5f0-57fb-4303-9f83-07399797b05b",
   "metadata": {},
   "outputs": [],
   "source": [
    "le = LabelEncoder()\n",
    "categorical_cols = ['Make', 'Model', 'City', 'County', 'Electric Utility']\n",
    "for col in categorical_cols:\n",
    "    df[col] = le.fit_transform(df[col])"
   ]
  },
  {
   "cell_type": "markdown",
   "id": "32a917e6-c5b8-42ad-89f9-6f89e951b661",
   "metadata": {},
   "source": [
    "### Outlier Detection (IQR Method)"
   ]
  },
  {
   "cell_type": "code",
   "execution_count": 56,
   "id": "aaf918e0-23db-4384-a5cf-9219e8d9386e",
   "metadata": {},
   "outputs": [],
   "source": [
    "numeric_cols = ['Electric Range', 'Base MSRP', 'Vehicle Age']\n",
    "for col in numeric_cols:\n",
    "    Q1 = df[col].quantile(0.25)\n",
    "    Q3 = df[col].quantile(0.75)\n",
    "    IQR = Q3 - Q1\n",
    "    lower = Q1 - 1.5 * IQR\n",
    "    upper = Q3 + 1.5 * IQR\n",
    "    df = df[(df[col] >= lower) & (df[col] <= upper)]"
   ]
  },
  {
   "cell_type": "markdown",
   "id": "4e7081dd-20d1-45d0-9210-375323fe23b7",
   "metadata": {},
   "source": [
    "### Skewness Handling (Log Transform)"
   ]
  },
  {
   "cell_type": "code",
   "execution_count": 60,
   "id": "1dd8a0e1-0bce-470c-9cac-3c655873d47d",
   "metadata": {},
   "outputs": [],
   "source": [
    "for col in numeric_cols:\n",
    "    if df[col].skew() > 1:\n",
    "        df[col] = np.log1p(df[col])"
   ]
  },
  {
   "cell_type": "markdown",
   "id": "0a290192-5cf5-438e-8207-f768b8e6f0cb",
   "metadata": {},
   "source": [
    "### Scale Numeric Features"
   ]
  },
  {
   "cell_type": "code",
   "execution_count": 63,
   "id": "04a9d029-8abe-4fce-bdce-ced676499aad",
   "metadata": {},
   "outputs": [],
   "source": [
    "scaler = StandardScaler()\n",
    "df[numeric_cols] = scaler.fit_transform(df[numeric_cols])"
   ]
  },
  {
   "cell_type": "markdown",
   "id": "f4e5d33a-d808-41ed-a7ec-41b129641791",
   "metadata": {},
   "source": [
    "### Define Features and Target"
   ]
  },
  {
   "cell_type": "code",
   "execution_count": 66,
   "id": "15d6b99d-5e48-454e-962f-39d817a061cd",
   "metadata": {},
   "outputs": [],
   "source": [
    "X = df.drop(columns=['Electric Vehicle Type'])\n",
    "y = df['Electric Vehicle Type']"
   ]
  },
  {
   "cell_type": "markdown",
   "id": "3ae5705b-e291-45ca-9e1d-0999d9a1e80d",
   "metadata": {},
   "source": [
    "### Train/Test Split"
   ]
  },
  {
   "cell_type": "code",
   "execution_count": 69,
   "id": "a7be0daf-efee-4294-87e5-6cc853b2b841",
   "metadata": {},
   "outputs": [],
   "source": [
    "X_train, X_test, y_train, y_test = train_test_split(\n",
    "    X, y, test_size=0.2, stratify=y, random_state=42\n",
    ")"
   ]
  },
  {
   "cell_type": "code",
   "execution_count": null,
   "id": "fe89feea-91c8-4c06-a30e-12839eaae606",
   "metadata": {},
   "outputs": [],
   "source": []
  }
 ],
 "metadata": {
  "kernelspec": {
   "display_name": "Python [conda env:base] *",
   "language": "python",
   "name": "conda-base-py"
  },
  "language_info": {
   "codemirror_mode": {
    "name": "ipython",
    "version": 3
   },
   "file_extension": ".py",
   "mimetype": "text/x-python",
   "name": "python",
   "nbconvert_exporter": "python",
   "pygments_lexer": "ipython3",
   "version": "3.12.7"
  }
 },
 "nbformat": 4,
 "nbformat_minor": 5
}
