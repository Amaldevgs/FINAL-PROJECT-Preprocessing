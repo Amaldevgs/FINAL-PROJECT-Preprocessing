{
 "cells": [
  {
   "cell_type": "markdown",
   "id": "28870738-48aa-448b-b91d-9fe15cbda603",
   "metadata": {},
   "source": [
    "# **Analyzing and Predicting Electric Vehicle Adoption Trends Using Machine Learning**"
   ]
  },
  {
   "cell_type": "markdown",
   "id": "8b157e4b-b2de-4695-81ee-572cf0034466",
   "metadata": {},
   "source": [
    "# Introduction"
   ]
  },
  {
   "cell_type": "markdown",
   "id": "efdddf32-974a-4568-90c8-86346d625881",
   "metadata": {},
   "source": [
    "Electric vehicles (EVs) are at the forefront of a global shift toward cleaner, more sustainable transportation. With rising concerns over climate change and fossil fuel dependency, governments and industries are increasingly promoting EV adoption through policies, incentives, and infrastructure development.\n",
    "\n",
    "However, EV adoption rates vary significantly across regions and demographics, influenced by factors such as vehicle type, price, electric range, location, and incentive eligibility. Understanding these patterns is crucial for stakeholders including policymakers, manufacturers, and energy providers.\n",
    "\n",
    "In this project, we analyze a real-world dataset of electric vehicle registrations in Washington State to identify trends and build predictive models using machine learning. By preprocessing the data, engineering useful features, and conducting exploratory analysis, we aim to uncover key insights into EV adoption behavior and develop models to predict characteristics such as vehicle type or eligibility for clean energy programs.\n",
    "\n",
    "This project not only demonstrates technical skills in data preprocessing, visualization, and modeling but also offers practical value by informing future decisions around EV policy and infrastructure planning."
   ]
  },
  {
   "cell_type": "markdown",
   "id": "6c1145b5-87c9-44a0-b4ac-8d51d23a70d4",
   "metadata": {},
   "source": [
    "# Aim and Objective"
   ]
  },
  {
   "cell_type": "markdown",
   "id": "8a85bbd6-084e-4200-8fc6-8633307dc68c",
   "metadata": {},
   "source": [
    "**Aim:** To use real-world electric vehicle registration data to explore adoption patterns and build predictive models that can assist in data-driven decisions for EV planning and policy."
   ]
  },
  {
   "cell_type": "markdown",
   "id": "3c5fd84c-204d-4724-bb53-518d1d8901cf",
   "metadata": {},
   "source": [
    "**Objective:** The objective of this project is to understand how electric vehicles are being adopted across regions by analyzing large-scale registration data, and to apply machine learning techniques to uncover the key factors influencing EV adoption and eligibility, enabling better forecasting and decision-making."
   ]
  },
  {
   "cell_type": "markdown",
   "id": "e117d712-2069-46fe-9ffa-219a3d5dbc83",
   "metadata": {},
   "source": [
    "# Project Overview"
   ]
  },
  {
   "cell_type": "markdown",
   "id": "e7456f7e-4494-4137-ac04-292744beaeff",
   "metadata": {},
   "source": [
    "The project begins with collecting electric vehicle registration data from Washington State’s open data portal. The data is then cleaned by removing duplicates, fixing inconsistent types, and handling missing values. Feature engineering techniques are applied to create meaningful variables such as vehicle age, range category, and eligibility flags.\n",
    "\n",
    "Exploratory Data Analysis (EDA) is conducted to identify trends in EV adoption across cities, manufacturers, model years, and pricing. The dataset is further preprocessed by addressing outliers, correcting skewed distributions, and encoding categorical features.\n",
    "\n",
    "Machine learning models are built to predict key outcomes such as EV type or eligibility for clean fuel programs. These models are evaluated using performance metrics like accuracy, precision, recall, and F1-score. The project concludes with interpretation of the results, providing actionable insights into factors influencing EV adoption."
   ]
  },
  {
   "cell_type": "markdown",
   "id": "f70d7c54-883d-4ef6-923d-bc9759e9eca8",
   "metadata": {},
   "source": [
    "# Data Description"
   ]
  },
  {
   "cell_type": "markdown",
   "id": "d6c01118-1d44-438c-8e08-f295b3601e9d",
   "metadata": {},
   "source": [
    "This project is based on a **real-world dataset** sourced from the [U.S. Government’s open data portal](https://catalog.data.gov/dataset/electric-vehicle-population-data), maintained by the **Washington State Department of Licensing**. The dataset contains detailed information on over **240,000 electric vehicles (EVs)** registered in **Washington State**. Each record includes key technical and contextual attributes such as **vehicle make**, **model**, **model year**, **electric range**, **MSRP (Manufacturer's Suggested Retail Price)**, and **electric vehicle type** (Battery Electric or Plug-in Hybrid).\n",
    "\n",
    "In addition to vehicle specifications, the dataset provides **geographic details** like **city**, **county**, **ZIP code**, **legislative district**, and the name of the **electric utility provider** in the area.\n",
    "\n",
    "A notable feature of the dataset is its inclusion of **eligibility status for Clean Alternative Fuel Vehicle (CAFV)** programs, which can influence **consumer behavior** and **policy outcomes**. The presence of **location-based fields** and **census tract data** allows for **regional analysis** of EV adoption trends.\n",
    "\n",
    "By combining **technical specifications**, **policy eligibility**, and **geographic distribution**, the dataset offers a **comprehensive view** of EV penetration across the state.\n",
    "\n",
    "This diverse and well-structured dataset serves as the foundation for **analyzing electric vehicle adoption behavior**, **identifying influential factors**, and **building predictive machine learning models**. It enables not just statistical insight, but also **practical applications** for stakeholders aiming to optimize **EV infrastructure**, improve **policy targeting**, or forecast **market growth**."
   ]
  },
  {
   "cell_type": "markdown",
   "id": "3ceb6073-ce18-4d85-97e4-7119ceb43a6a",
   "metadata": {},
   "source": [
    "# **Importing Libraries**"
   ]
  },
  {
   "cell_type": "code",
   "execution_count": 12,
   "id": "ae57610c-00b7-409f-9399-3843c0d770a0",
   "metadata": {},
   "outputs": [],
   "source": [
    "# For Data handling\n",
    "import pandas as pd\n",
    "import numpy as np\n",
    "\n",
    "# For Visualization\n",
    "import matplotlib.pyplot as plt\n",
    "import seaborn as sns\n",
    "\n",
    "# For Preprocessing\n",
    "from sklearn.model_selection import train_test_split\n",
    "from sklearn.preprocessing import LabelEncoder, StandardScaler\n",
    "from scipy.stats import skew\n",
    "\n",
    "# For Machine Learning Models\n",
    "from sklearn.linear_model import LogisticRegression\n",
    "from sklearn.ensemble import RandomForestClassifier\n",
    "from sklearn.tree import DecisionTreeClassifier\n",
    "from xgboost import XGBClassifier\n",
    "\n",
    "# For Model Evaluation\n",
    "from sklearn.metrics import accuracy_score, precision_score, recall_score, f1_score, confusion_matrix, classification_report, roc_auc_score\n",
    "\n",
    "# Warnings\n",
    "import warnings\n",
    "warnings.filterwarnings('ignore')\n",
    "# Set plot style\n",
    "sns.set(style='whitegrid', palette='pastel')"
   ]
  },
  {
   "cell_type": "markdown",
   "id": "11759860-4e69-49d4-a39e-ae93f6eec224",
   "metadata": {},
   "source": [
    "# Loading & Inspection"
   ]
  },
  {
   "cell_type": "markdown",
   "id": "2eeb262c-938a-4401-b0e5-03b0f5ddcc00",
   "metadata": {},
   "source": [
    "**Loading the dataset**"
   ]
  },
  {
   "cell_type": "code",
   "execution_count": 15,
   "id": "bc793f72-b9ad-4793-843e-2313f7763c49",
   "metadata": {},
   "outputs": [
    {
     "data": {
      "text/html": [
       "<div>\n",
       "<style scoped>\n",
       "    .dataframe tbody tr th:only-of-type {\n",
       "        vertical-align: middle;\n",
       "    }\n",
       "\n",
       "    .dataframe tbody tr th {\n",
       "        vertical-align: top;\n",
       "    }\n",
       "\n",
       "    .dataframe thead th {\n",
       "        text-align: right;\n",
       "    }\n",
       "</style>\n",
       "<table border=\"1\" class=\"dataframe\">\n",
       "  <thead>\n",
       "    <tr style=\"text-align: right;\">\n",
       "      <th></th>\n",
       "      <th>VIN (1-10)</th>\n",
       "      <th>County</th>\n",
       "      <th>City</th>\n",
       "      <th>State</th>\n",
       "      <th>Postal Code</th>\n",
       "      <th>Model Year</th>\n",
       "      <th>Make</th>\n",
       "      <th>Model</th>\n",
       "      <th>Electric Vehicle Type</th>\n",
       "      <th>Clean Alternative Fuel Vehicle (CAFV) Eligibility</th>\n",
       "      <th>Electric Range</th>\n",
       "      <th>Base MSRP</th>\n",
       "      <th>Legislative District</th>\n",
       "      <th>DOL Vehicle ID</th>\n",
       "      <th>Vehicle Location</th>\n",
       "      <th>Electric Utility</th>\n",
       "      <th>2020 Census Tract</th>\n",
       "    </tr>\n",
       "  </thead>\n",
       "  <tbody>\n",
       "    <tr>\n",
       "      <th>0</th>\n",
       "      <td>1N4BZ0CP5G</td>\n",
       "      <td>King</td>\n",
       "      <td>Seattle</td>\n",
       "      <td>WA</td>\n",
       "      <td>98125.0</td>\n",
       "      <td>2016</td>\n",
       "      <td>NISSAN</td>\n",
       "      <td>LEAF</td>\n",
       "      <td>Battery Electric Vehicle (BEV)</td>\n",
       "      <td>Clean Alternative Fuel Vehicle Eligible</td>\n",
       "      <td>84.0</td>\n",
       "      <td>0.0</td>\n",
       "      <td>46.0</td>\n",
       "      <td>349455557</td>\n",
       "      <td>POINT (-122.30253 47.72656)</td>\n",
       "      <td>CITY OF SEATTLE - (WA)|CITY OF TACOMA - (WA)</td>\n",
       "      <td>5.303300e+10</td>\n",
       "    </tr>\n",
       "    <tr>\n",
       "      <th>1</th>\n",
       "      <td>KNDJX3AEXG</td>\n",
       "      <td>King</td>\n",
       "      <td>Renton</td>\n",
       "      <td>WA</td>\n",
       "      <td>98058.0</td>\n",
       "      <td>2016</td>\n",
       "      <td>KIA</td>\n",
       "      <td>SOUL</td>\n",
       "      <td>Battery Electric Vehicle (BEV)</td>\n",
       "      <td>Clean Alternative Fuel Vehicle Eligible</td>\n",
       "      <td>93.0</td>\n",
       "      <td>31950.0</td>\n",
       "      <td>11.0</td>\n",
       "      <td>210641315</td>\n",
       "      <td>POINT (-122.08747 47.4466)</td>\n",
       "      <td>PUGET SOUND ENERGY INC||CITY OF TACOMA - (WA)</td>\n",
       "      <td>5.303303e+10</td>\n",
       "    </tr>\n",
       "    <tr>\n",
       "      <th>2</th>\n",
       "      <td>5YJ3E1EB2J</td>\n",
       "      <td>King</td>\n",
       "      <td>Seattle</td>\n",
       "      <td>WA</td>\n",
       "      <td>98115.0</td>\n",
       "      <td>2018</td>\n",
       "      <td>TESLA</td>\n",
       "      <td>MODEL 3</td>\n",
       "      <td>Battery Electric Vehicle (BEV)</td>\n",
       "      <td>Clean Alternative Fuel Vehicle Eligible</td>\n",
       "      <td>215.0</td>\n",
       "      <td>0.0</td>\n",
       "      <td>43.0</td>\n",
       "      <td>171417494</td>\n",
       "      <td>POINT (-122.31676 47.68156)</td>\n",
       "      <td>CITY OF SEATTLE - (WA)|CITY OF TACOMA - (WA)</td>\n",
       "      <td>5.303300e+10</td>\n",
       "    </tr>\n",
       "    <tr>\n",
       "      <th>3</th>\n",
       "      <td>1C4RJXN64R</td>\n",
       "      <td>Kitsap</td>\n",
       "      <td>Bremerton</td>\n",
       "      <td>WA</td>\n",
       "      <td>98312.0</td>\n",
       "      <td>2024</td>\n",
       "      <td>JEEP</td>\n",
       "      <td>WRANGLER</td>\n",
       "      <td>Plug-in Hybrid Electric Vehicle (PHEV)</td>\n",
       "      <td>Not eligible due to low battery range</td>\n",
       "      <td>21.0</td>\n",
       "      <td>0.0</td>\n",
       "      <td>26.0</td>\n",
       "      <td>262542927</td>\n",
       "      <td>POINT (-122.65223 47.57192)</td>\n",
       "      <td>PUGET SOUND ENERGY INC</td>\n",
       "      <td>5.303508e+10</td>\n",
       "    </tr>\n",
       "    <tr>\n",
       "      <th>4</th>\n",
       "      <td>5YJ3E1EB1J</td>\n",
       "      <td>Thurston</td>\n",
       "      <td>Olympia</td>\n",
       "      <td>WA</td>\n",
       "      <td>98512.0</td>\n",
       "      <td>2018</td>\n",
       "      <td>TESLA</td>\n",
       "      <td>MODEL 3</td>\n",
       "      <td>Battery Electric Vehicle (BEV)</td>\n",
       "      <td>Clean Alternative Fuel Vehicle Eligible</td>\n",
       "      <td>215.0</td>\n",
       "      <td>0.0</td>\n",
       "      <td>35.0</td>\n",
       "      <td>110432815</td>\n",
       "      <td>POINT (-122.9131 47.01359)</td>\n",
       "      <td>PUGET SOUND ENERGY INC</td>\n",
       "      <td>5.306701e+10</td>\n",
       "    </tr>\n",
       "    <tr>\n",
       "      <th>...</th>\n",
       "      <td>...</td>\n",
       "      <td>...</td>\n",
       "      <td>...</td>\n",
       "      <td>...</td>\n",
       "      <td>...</td>\n",
       "      <td>...</td>\n",
       "      <td>...</td>\n",
       "      <td>...</td>\n",
       "      <td>...</td>\n",
       "      <td>...</td>\n",
       "      <td>...</td>\n",
       "      <td>...</td>\n",
       "      <td>...</td>\n",
       "      <td>...</td>\n",
       "      <td>...</td>\n",
       "      <td>...</td>\n",
       "      <td>...</td>\n",
       "    </tr>\n",
       "    <tr>\n",
       "      <th>247339</th>\n",
       "      <td>7G2CEHED0R</td>\n",
       "      <td>King</td>\n",
       "      <td>Newcastle</td>\n",
       "      <td>WA</td>\n",
       "      <td>98056.0</td>\n",
       "      <td>2024</td>\n",
       "      <td>TESLA</td>\n",
       "      <td>CYBERTRUCK</td>\n",
       "      <td>Battery Electric Vehicle (BEV)</td>\n",
       "      <td>Eligibility unknown as battery range has not b...</td>\n",
       "      <td>0.0</td>\n",
       "      <td>0.0</td>\n",
       "      <td>41.0</td>\n",
       "      <td>278417947</td>\n",
       "      <td>POINT (-122.1805 47.50006)</td>\n",
       "      <td>PUGET SOUND ENERGY INC||CITY OF TACOMA - (WA)</td>\n",
       "      <td>5.303303e+10</td>\n",
       "    </tr>\n",
       "    <tr>\n",
       "      <th>247340</th>\n",
       "      <td>1C4RJYC65R</td>\n",
       "      <td>Pierce</td>\n",
       "      <td>Puyallup</td>\n",
       "      <td>WA</td>\n",
       "      <td>98374.0</td>\n",
       "      <td>2024</td>\n",
       "      <td>JEEP</td>\n",
       "      <td>GRAND CHEROKEE</td>\n",
       "      <td>Plug-in Hybrid Electric Vehicle (PHEV)</td>\n",
       "      <td>Not eligible due to low battery range</td>\n",
       "      <td>25.0</td>\n",
       "      <td>0.0</td>\n",
       "      <td>25.0</td>\n",
       "      <td>271451197</td>\n",
       "      <td>POINT (-122.27575 47.13959)</td>\n",
       "      <td>PUGET SOUND ENERGY INC||CITY OF TACOMA - (WA)</td>\n",
       "      <td>5.305307e+10</td>\n",
       "    </tr>\n",
       "    <tr>\n",
       "      <th>247341</th>\n",
       "      <td>7SAYGDEE0P</td>\n",
       "      <td>King</td>\n",
       "      <td>Bothell</td>\n",
       "      <td>WA</td>\n",
       "      <td>98011.0</td>\n",
       "      <td>2023</td>\n",
       "      <td>TESLA</td>\n",
       "      <td>MODEL Y</td>\n",
       "      <td>Battery Electric Vehicle (BEV)</td>\n",
       "      <td>Eligibility unknown as battery range has not b...</td>\n",
       "      <td>0.0</td>\n",
       "      <td>0.0</td>\n",
       "      <td>1.0</td>\n",
       "      <td>249563667</td>\n",
       "      <td>POINT (-122.20563 47.76144)</td>\n",
       "      <td>PUGET SOUND ENERGY INC||CITY OF TACOMA - (WA)</td>\n",
       "      <td>5.303302e+10</td>\n",
       "    </tr>\n",
       "    <tr>\n",
       "      <th>247342</th>\n",
       "      <td>KNDPYDAH9P</td>\n",
       "      <td>Kitsap</td>\n",
       "      <td>Bainbridge Island</td>\n",
       "      <td>WA</td>\n",
       "      <td>98110.0</td>\n",
       "      <td>2023</td>\n",
       "      <td>KIA</td>\n",
       "      <td>SPORTAGE</td>\n",
       "      <td>Plug-in Hybrid Electric Vehicle (PHEV)</td>\n",
       "      <td>Clean Alternative Fuel Vehicle Eligible</td>\n",
       "      <td>34.0</td>\n",
       "      <td>0.0</td>\n",
       "      <td>23.0</td>\n",
       "      <td>238968376</td>\n",
       "      <td>POINT (-122.521 47.62728)</td>\n",
       "      <td>PUGET SOUND ENERGY INC</td>\n",
       "      <td>5.303509e+10</td>\n",
       "    </tr>\n",
       "    <tr>\n",
       "      <th>247343</th>\n",
       "      <td>KNDPZDAH8P</td>\n",
       "      <td>Whatcom</td>\n",
       "      <td>Bellingham</td>\n",
       "      <td>WA</td>\n",
       "      <td>98226.0</td>\n",
       "      <td>2023</td>\n",
       "      <td>KIA</td>\n",
       "      <td>SPORTAGE</td>\n",
       "      <td>Plug-in Hybrid Electric Vehicle (PHEV)</td>\n",
       "      <td>Clean Alternative Fuel Vehicle Eligible</td>\n",
       "      <td>34.0</td>\n",
       "      <td>0.0</td>\n",
       "      <td>42.0</td>\n",
       "      <td>253768637</td>\n",
       "      <td>POINT (-122.49756 48.7999)</td>\n",
       "      <td>PUGET SOUND ENERGY INC||PUD NO 1 OF WHATCOM CO...</td>\n",
       "      <td>5.307300e+10</td>\n",
       "    </tr>\n",
       "  </tbody>\n",
       "</table>\n",
       "<p>247344 rows × 17 columns</p>\n",
       "</div>"
      ],
      "text/plain": [
       "        VIN (1-10)    County               City State  Postal Code  \\\n",
       "0       1N4BZ0CP5G      King            Seattle    WA      98125.0   \n",
       "1       KNDJX3AEXG      King             Renton    WA      98058.0   \n",
       "2       5YJ3E1EB2J      King            Seattle    WA      98115.0   \n",
       "3       1C4RJXN64R    Kitsap          Bremerton    WA      98312.0   \n",
       "4       5YJ3E1EB1J  Thurston            Olympia    WA      98512.0   \n",
       "...            ...       ...                ...   ...          ...   \n",
       "247339  7G2CEHED0R      King          Newcastle    WA      98056.0   \n",
       "247340  1C4RJYC65R    Pierce           Puyallup    WA      98374.0   \n",
       "247341  7SAYGDEE0P      King            Bothell    WA      98011.0   \n",
       "247342  KNDPYDAH9P    Kitsap  Bainbridge Island    WA      98110.0   \n",
       "247343  KNDPZDAH8P   Whatcom         Bellingham    WA      98226.0   \n",
       "\n",
       "        Model Year    Make           Model  \\\n",
       "0             2016  NISSAN            LEAF   \n",
       "1             2016     KIA            SOUL   \n",
       "2             2018   TESLA         MODEL 3   \n",
       "3             2024    JEEP        WRANGLER   \n",
       "4             2018   TESLA         MODEL 3   \n",
       "...            ...     ...             ...   \n",
       "247339        2024   TESLA      CYBERTRUCK   \n",
       "247340        2024    JEEP  GRAND CHEROKEE   \n",
       "247341        2023   TESLA         MODEL Y   \n",
       "247342        2023     KIA        SPORTAGE   \n",
       "247343        2023     KIA        SPORTAGE   \n",
       "\n",
       "                         Electric Vehicle Type  \\\n",
       "0               Battery Electric Vehicle (BEV)   \n",
       "1               Battery Electric Vehicle (BEV)   \n",
       "2               Battery Electric Vehicle (BEV)   \n",
       "3       Plug-in Hybrid Electric Vehicle (PHEV)   \n",
       "4               Battery Electric Vehicle (BEV)   \n",
       "...                                        ...   \n",
       "247339          Battery Electric Vehicle (BEV)   \n",
       "247340  Plug-in Hybrid Electric Vehicle (PHEV)   \n",
       "247341          Battery Electric Vehicle (BEV)   \n",
       "247342  Plug-in Hybrid Electric Vehicle (PHEV)   \n",
       "247343  Plug-in Hybrid Electric Vehicle (PHEV)   \n",
       "\n",
       "        Clean Alternative Fuel Vehicle (CAFV) Eligibility  Electric Range  \\\n",
       "0                 Clean Alternative Fuel Vehicle Eligible            84.0   \n",
       "1                 Clean Alternative Fuel Vehicle Eligible            93.0   \n",
       "2                 Clean Alternative Fuel Vehicle Eligible           215.0   \n",
       "3                   Not eligible due to low battery range            21.0   \n",
       "4                 Clean Alternative Fuel Vehicle Eligible           215.0   \n",
       "...                                                   ...             ...   \n",
       "247339  Eligibility unknown as battery range has not b...             0.0   \n",
       "247340              Not eligible due to low battery range            25.0   \n",
       "247341  Eligibility unknown as battery range has not b...             0.0   \n",
       "247342            Clean Alternative Fuel Vehicle Eligible            34.0   \n",
       "247343            Clean Alternative Fuel Vehicle Eligible            34.0   \n",
       "\n",
       "        Base MSRP  Legislative District  DOL Vehicle ID  \\\n",
       "0             0.0                  46.0       349455557   \n",
       "1         31950.0                  11.0       210641315   \n",
       "2             0.0                  43.0       171417494   \n",
       "3             0.0                  26.0       262542927   \n",
       "4             0.0                  35.0       110432815   \n",
       "...           ...                   ...             ...   \n",
       "247339        0.0                  41.0       278417947   \n",
       "247340        0.0                  25.0       271451197   \n",
       "247341        0.0                   1.0       249563667   \n",
       "247342        0.0                  23.0       238968376   \n",
       "247343        0.0                  42.0       253768637   \n",
       "\n",
       "                   Vehicle Location  \\\n",
       "0       POINT (-122.30253 47.72656)   \n",
       "1        POINT (-122.08747 47.4466)   \n",
       "2       POINT (-122.31676 47.68156)   \n",
       "3       POINT (-122.65223 47.57192)   \n",
       "4        POINT (-122.9131 47.01359)   \n",
       "...                             ...   \n",
       "247339   POINT (-122.1805 47.50006)   \n",
       "247340  POINT (-122.27575 47.13959)   \n",
       "247341  POINT (-122.20563 47.76144)   \n",
       "247342    POINT (-122.521 47.62728)   \n",
       "247343   POINT (-122.49756 48.7999)   \n",
       "\n",
       "                                         Electric Utility  2020 Census Tract  \n",
       "0            CITY OF SEATTLE - (WA)|CITY OF TACOMA - (WA)       5.303300e+10  \n",
       "1           PUGET SOUND ENERGY INC||CITY OF TACOMA - (WA)       5.303303e+10  \n",
       "2            CITY OF SEATTLE - (WA)|CITY OF TACOMA - (WA)       5.303300e+10  \n",
       "3                                  PUGET SOUND ENERGY INC       5.303508e+10  \n",
       "4                                  PUGET SOUND ENERGY INC       5.306701e+10  \n",
       "...                                                   ...                ...  \n",
       "247339      PUGET SOUND ENERGY INC||CITY OF TACOMA - (WA)       5.303303e+10  \n",
       "247340      PUGET SOUND ENERGY INC||CITY OF TACOMA - (WA)       5.305307e+10  \n",
       "247341      PUGET SOUND ENERGY INC||CITY OF TACOMA - (WA)       5.303302e+10  \n",
       "247342                             PUGET SOUND ENERGY INC       5.303509e+10  \n",
       "247343  PUGET SOUND ENERGY INC||PUD NO 1 OF WHATCOM CO...       5.307300e+10  \n",
       "\n",
       "[247344 rows x 17 columns]"
      ]
     },
     "execution_count": 15,
     "metadata": {},
     "output_type": "execute_result"
    }
   ],
   "source": [
    "df = pd.read_csv(\"C:/Users/AmalDev/OneDrive/Desktop/Electric_Vehicle_Population_Data.csv\")\n",
    "df"
   ]
  },
  {
   "cell_type": "code",
   "execution_count": 16,
   "id": "d955f5d8-47e5-4149-b897-5e61c1d988e3",
   "metadata": {},
   "outputs": [
    {
     "data": {
      "text/plain": [
       "Index(['VIN (1-10)', 'County', 'City', 'State', 'Postal Code', 'Model Year',\n",
       "       'Make', 'Model', 'Electric Vehicle Type',\n",
       "       'Clean Alternative Fuel Vehicle (CAFV) Eligibility', 'Electric Range',\n",
       "       'Base MSRP', 'Legislative District', 'DOL Vehicle ID',\n",
       "       'Vehicle Location', 'Electric Utility', '2020 Census Tract'],\n",
       "      dtype='object')"
      ]
     },
     "execution_count": 16,
     "metadata": {},
     "output_type": "execute_result"
    }
   ],
   "source": [
    "df.columns"
   ]
  },
  {
   "cell_type": "code",
   "execution_count": 17,
   "id": "c6714265-71b4-4931-8436-cc1b91235045",
   "metadata": {},
   "outputs": [
    {
     "data": {
      "text/html": [
       "<div>\n",
       "<style scoped>\n",
       "    .dataframe tbody tr th:only-of-type {\n",
       "        vertical-align: middle;\n",
       "    }\n",
       "\n",
       "    .dataframe tbody tr th {\n",
       "        vertical-align: top;\n",
       "    }\n",
       "\n",
       "    .dataframe thead th {\n",
       "        text-align: right;\n",
       "    }\n",
       "</style>\n",
       "<table border=\"1\" class=\"dataframe\">\n",
       "  <thead>\n",
       "    <tr style=\"text-align: right;\">\n",
       "      <th></th>\n",
       "      <th>VIN (1-10)</th>\n",
       "      <th>County</th>\n",
       "      <th>City</th>\n",
       "      <th>State</th>\n",
       "      <th>Postal Code</th>\n",
       "      <th>Model Year</th>\n",
       "      <th>Make</th>\n",
       "      <th>Model</th>\n",
       "      <th>Electric Vehicle Type</th>\n",
       "      <th>Clean Alternative Fuel Vehicle (CAFV) Eligibility</th>\n",
       "      <th>Electric Range</th>\n",
       "      <th>Base MSRP</th>\n",
       "      <th>Legislative District</th>\n",
       "      <th>DOL Vehicle ID</th>\n",
       "      <th>Vehicle Location</th>\n",
       "      <th>Electric Utility</th>\n",
       "      <th>2020 Census Tract</th>\n",
       "    </tr>\n",
       "  </thead>\n",
       "  <tbody>\n",
       "    <tr>\n",
       "      <th>0</th>\n",
       "      <td>1N4BZ0CP5G</td>\n",
       "      <td>King</td>\n",
       "      <td>Seattle</td>\n",
       "      <td>WA</td>\n",
       "      <td>98125.0</td>\n",
       "      <td>2016</td>\n",
       "      <td>NISSAN</td>\n",
       "      <td>LEAF</td>\n",
       "      <td>Battery Electric Vehicle (BEV)</td>\n",
       "      <td>Clean Alternative Fuel Vehicle Eligible</td>\n",
       "      <td>84.0</td>\n",
       "      <td>0.0</td>\n",
       "      <td>46.0</td>\n",
       "      <td>349455557</td>\n",
       "      <td>POINT (-122.30253 47.72656)</td>\n",
       "      <td>CITY OF SEATTLE - (WA)|CITY OF TACOMA - (WA)</td>\n",
       "      <td>5.303300e+10</td>\n",
       "    </tr>\n",
       "    <tr>\n",
       "      <th>1</th>\n",
       "      <td>KNDJX3AEXG</td>\n",
       "      <td>King</td>\n",
       "      <td>Renton</td>\n",
       "      <td>WA</td>\n",
       "      <td>98058.0</td>\n",
       "      <td>2016</td>\n",
       "      <td>KIA</td>\n",
       "      <td>SOUL</td>\n",
       "      <td>Battery Electric Vehicle (BEV)</td>\n",
       "      <td>Clean Alternative Fuel Vehicle Eligible</td>\n",
       "      <td>93.0</td>\n",
       "      <td>31950.0</td>\n",
       "      <td>11.0</td>\n",
       "      <td>210641315</td>\n",
       "      <td>POINT (-122.08747 47.4466)</td>\n",
       "      <td>PUGET SOUND ENERGY INC||CITY OF TACOMA - (WA)</td>\n",
       "      <td>5.303303e+10</td>\n",
       "    </tr>\n",
       "    <tr>\n",
       "      <th>2</th>\n",
       "      <td>5YJ3E1EB2J</td>\n",
       "      <td>King</td>\n",
       "      <td>Seattle</td>\n",
       "      <td>WA</td>\n",
       "      <td>98115.0</td>\n",
       "      <td>2018</td>\n",
       "      <td>TESLA</td>\n",
       "      <td>MODEL 3</td>\n",
       "      <td>Battery Electric Vehicle (BEV)</td>\n",
       "      <td>Clean Alternative Fuel Vehicle Eligible</td>\n",
       "      <td>215.0</td>\n",
       "      <td>0.0</td>\n",
       "      <td>43.0</td>\n",
       "      <td>171417494</td>\n",
       "      <td>POINT (-122.31676 47.68156)</td>\n",
       "      <td>CITY OF SEATTLE - (WA)|CITY OF TACOMA - (WA)</td>\n",
       "      <td>5.303300e+10</td>\n",
       "    </tr>\n",
       "    <tr>\n",
       "      <th>3</th>\n",
       "      <td>1C4RJXN64R</td>\n",
       "      <td>Kitsap</td>\n",
       "      <td>Bremerton</td>\n",
       "      <td>WA</td>\n",
       "      <td>98312.0</td>\n",
       "      <td>2024</td>\n",
       "      <td>JEEP</td>\n",
       "      <td>WRANGLER</td>\n",
       "      <td>Plug-in Hybrid Electric Vehicle (PHEV)</td>\n",
       "      <td>Not eligible due to low battery range</td>\n",
       "      <td>21.0</td>\n",
       "      <td>0.0</td>\n",
       "      <td>26.0</td>\n",
       "      <td>262542927</td>\n",
       "      <td>POINT (-122.65223 47.57192)</td>\n",
       "      <td>PUGET SOUND ENERGY INC</td>\n",
       "      <td>5.303508e+10</td>\n",
       "    </tr>\n",
       "    <tr>\n",
       "      <th>4</th>\n",
       "      <td>5YJ3E1EB1J</td>\n",
       "      <td>Thurston</td>\n",
       "      <td>Olympia</td>\n",
       "      <td>WA</td>\n",
       "      <td>98512.0</td>\n",
       "      <td>2018</td>\n",
       "      <td>TESLA</td>\n",
       "      <td>MODEL 3</td>\n",
       "      <td>Battery Electric Vehicle (BEV)</td>\n",
       "      <td>Clean Alternative Fuel Vehicle Eligible</td>\n",
       "      <td>215.0</td>\n",
       "      <td>0.0</td>\n",
       "      <td>35.0</td>\n",
       "      <td>110432815</td>\n",
       "      <td>POINT (-122.9131 47.01359)</td>\n",
       "      <td>PUGET SOUND ENERGY INC</td>\n",
       "      <td>5.306701e+10</td>\n",
       "    </tr>\n",
       "  </tbody>\n",
       "</table>\n",
       "</div>"
      ],
      "text/plain": [
       "   VIN (1-10)    County       City State  Postal Code  Model Year    Make  \\\n",
       "0  1N4BZ0CP5G      King    Seattle    WA      98125.0        2016  NISSAN   \n",
       "1  KNDJX3AEXG      King     Renton    WA      98058.0        2016     KIA   \n",
       "2  5YJ3E1EB2J      King    Seattle    WA      98115.0        2018   TESLA   \n",
       "3  1C4RJXN64R    Kitsap  Bremerton    WA      98312.0        2024    JEEP   \n",
       "4  5YJ3E1EB1J  Thurston    Olympia    WA      98512.0        2018   TESLA   \n",
       "\n",
       "      Model                   Electric Vehicle Type  \\\n",
       "0      LEAF          Battery Electric Vehicle (BEV)   \n",
       "1      SOUL          Battery Electric Vehicle (BEV)   \n",
       "2   MODEL 3          Battery Electric Vehicle (BEV)   \n",
       "3  WRANGLER  Plug-in Hybrid Electric Vehicle (PHEV)   \n",
       "4   MODEL 3          Battery Electric Vehicle (BEV)   \n",
       "\n",
       "  Clean Alternative Fuel Vehicle (CAFV) Eligibility  Electric Range  \\\n",
       "0           Clean Alternative Fuel Vehicle Eligible            84.0   \n",
       "1           Clean Alternative Fuel Vehicle Eligible            93.0   \n",
       "2           Clean Alternative Fuel Vehicle Eligible           215.0   \n",
       "3             Not eligible due to low battery range            21.0   \n",
       "4           Clean Alternative Fuel Vehicle Eligible           215.0   \n",
       "\n",
       "   Base MSRP  Legislative District  DOL Vehicle ID  \\\n",
       "0        0.0                  46.0       349455557   \n",
       "1    31950.0                  11.0       210641315   \n",
       "2        0.0                  43.0       171417494   \n",
       "3        0.0                  26.0       262542927   \n",
       "4        0.0                  35.0       110432815   \n",
       "\n",
       "              Vehicle Location                               Electric Utility  \\\n",
       "0  POINT (-122.30253 47.72656)   CITY OF SEATTLE - (WA)|CITY OF TACOMA - (WA)   \n",
       "1   POINT (-122.08747 47.4466)  PUGET SOUND ENERGY INC||CITY OF TACOMA - (WA)   \n",
       "2  POINT (-122.31676 47.68156)   CITY OF SEATTLE - (WA)|CITY OF TACOMA - (WA)   \n",
       "3  POINT (-122.65223 47.57192)                         PUGET SOUND ENERGY INC   \n",
       "4   POINT (-122.9131 47.01359)                         PUGET SOUND ENERGY INC   \n",
       "\n",
       "   2020 Census Tract  \n",
       "0       5.303300e+10  \n",
       "1       5.303303e+10  \n",
       "2       5.303300e+10  \n",
       "3       5.303508e+10  \n",
       "4       5.306701e+10  "
      ]
     },
     "execution_count": 17,
     "metadata": {},
     "output_type": "execute_result"
    }
   ],
   "source": [
    "# View the first 5 rows of the dataset\n",
    "df.head()"
   ]
  },
  {
   "cell_type": "code",
   "execution_count": 18,
   "id": "57bbba66-8b93-4463-971a-43bc0c12b53a",
   "metadata": {},
   "outputs": [
    {
     "data": {
      "text/html": [
       "<div>\n",
       "<style scoped>\n",
       "    .dataframe tbody tr th:only-of-type {\n",
       "        vertical-align: middle;\n",
       "    }\n",
       "\n",
       "    .dataframe tbody tr th {\n",
       "        vertical-align: top;\n",
       "    }\n",
       "\n",
       "    .dataframe thead th {\n",
       "        text-align: right;\n",
       "    }\n",
       "</style>\n",
       "<table border=\"1\" class=\"dataframe\">\n",
       "  <thead>\n",
       "    <tr style=\"text-align: right;\">\n",
       "      <th></th>\n",
       "      <th>VIN (1-10)</th>\n",
       "      <th>County</th>\n",
       "      <th>City</th>\n",
       "      <th>State</th>\n",
       "      <th>Postal Code</th>\n",
       "      <th>Model Year</th>\n",
       "      <th>Make</th>\n",
       "      <th>Model</th>\n",
       "      <th>Electric Vehicle Type</th>\n",
       "      <th>Clean Alternative Fuel Vehicle (CAFV) Eligibility</th>\n",
       "      <th>Electric Range</th>\n",
       "      <th>Base MSRP</th>\n",
       "      <th>Legislative District</th>\n",
       "      <th>DOL Vehicle ID</th>\n",
       "      <th>Vehicle Location</th>\n",
       "      <th>Electric Utility</th>\n",
       "      <th>2020 Census Tract</th>\n",
       "    </tr>\n",
       "  </thead>\n",
       "  <tbody>\n",
       "    <tr>\n",
       "      <th>247339</th>\n",
       "      <td>7G2CEHED0R</td>\n",
       "      <td>King</td>\n",
       "      <td>Newcastle</td>\n",
       "      <td>WA</td>\n",
       "      <td>98056.0</td>\n",
       "      <td>2024</td>\n",
       "      <td>TESLA</td>\n",
       "      <td>CYBERTRUCK</td>\n",
       "      <td>Battery Electric Vehicle (BEV)</td>\n",
       "      <td>Eligibility unknown as battery range has not b...</td>\n",
       "      <td>0.0</td>\n",
       "      <td>0.0</td>\n",
       "      <td>41.0</td>\n",
       "      <td>278417947</td>\n",
       "      <td>POINT (-122.1805 47.50006)</td>\n",
       "      <td>PUGET SOUND ENERGY INC||CITY OF TACOMA - (WA)</td>\n",
       "      <td>5.303303e+10</td>\n",
       "    </tr>\n",
       "    <tr>\n",
       "      <th>247340</th>\n",
       "      <td>1C4RJYC65R</td>\n",
       "      <td>Pierce</td>\n",
       "      <td>Puyallup</td>\n",
       "      <td>WA</td>\n",
       "      <td>98374.0</td>\n",
       "      <td>2024</td>\n",
       "      <td>JEEP</td>\n",
       "      <td>GRAND CHEROKEE</td>\n",
       "      <td>Plug-in Hybrid Electric Vehicle (PHEV)</td>\n",
       "      <td>Not eligible due to low battery range</td>\n",
       "      <td>25.0</td>\n",
       "      <td>0.0</td>\n",
       "      <td>25.0</td>\n",
       "      <td>271451197</td>\n",
       "      <td>POINT (-122.27575 47.13959)</td>\n",
       "      <td>PUGET SOUND ENERGY INC||CITY OF TACOMA - (WA)</td>\n",
       "      <td>5.305307e+10</td>\n",
       "    </tr>\n",
       "    <tr>\n",
       "      <th>247341</th>\n",
       "      <td>7SAYGDEE0P</td>\n",
       "      <td>King</td>\n",
       "      <td>Bothell</td>\n",
       "      <td>WA</td>\n",
       "      <td>98011.0</td>\n",
       "      <td>2023</td>\n",
       "      <td>TESLA</td>\n",
       "      <td>MODEL Y</td>\n",
       "      <td>Battery Electric Vehicle (BEV)</td>\n",
       "      <td>Eligibility unknown as battery range has not b...</td>\n",
       "      <td>0.0</td>\n",
       "      <td>0.0</td>\n",
       "      <td>1.0</td>\n",
       "      <td>249563667</td>\n",
       "      <td>POINT (-122.20563 47.76144)</td>\n",
       "      <td>PUGET SOUND ENERGY INC||CITY OF TACOMA - (WA)</td>\n",
       "      <td>5.303302e+10</td>\n",
       "    </tr>\n",
       "    <tr>\n",
       "      <th>247342</th>\n",
       "      <td>KNDPYDAH9P</td>\n",
       "      <td>Kitsap</td>\n",
       "      <td>Bainbridge Island</td>\n",
       "      <td>WA</td>\n",
       "      <td>98110.0</td>\n",
       "      <td>2023</td>\n",
       "      <td>KIA</td>\n",
       "      <td>SPORTAGE</td>\n",
       "      <td>Plug-in Hybrid Electric Vehicle (PHEV)</td>\n",
       "      <td>Clean Alternative Fuel Vehicle Eligible</td>\n",
       "      <td>34.0</td>\n",
       "      <td>0.0</td>\n",
       "      <td>23.0</td>\n",
       "      <td>238968376</td>\n",
       "      <td>POINT (-122.521 47.62728)</td>\n",
       "      <td>PUGET SOUND ENERGY INC</td>\n",
       "      <td>5.303509e+10</td>\n",
       "    </tr>\n",
       "    <tr>\n",
       "      <th>247343</th>\n",
       "      <td>KNDPZDAH8P</td>\n",
       "      <td>Whatcom</td>\n",
       "      <td>Bellingham</td>\n",
       "      <td>WA</td>\n",
       "      <td>98226.0</td>\n",
       "      <td>2023</td>\n",
       "      <td>KIA</td>\n",
       "      <td>SPORTAGE</td>\n",
       "      <td>Plug-in Hybrid Electric Vehicle (PHEV)</td>\n",
       "      <td>Clean Alternative Fuel Vehicle Eligible</td>\n",
       "      <td>34.0</td>\n",
       "      <td>0.0</td>\n",
       "      <td>42.0</td>\n",
       "      <td>253768637</td>\n",
       "      <td>POINT (-122.49756 48.7999)</td>\n",
       "      <td>PUGET SOUND ENERGY INC||PUD NO 1 OF WHATCOM CO...</td>\n",
       "      <td>5.307300e+10</td>\n",
       "    </tr>\n",
       "  </tbody>\n",
       "</table>\n",
       "</div>"
      ],
      "text/plain": [
       "        VIN (1-10)   County               City State  Postal Code  Model Year  \\\n",
       "247339  7G2CEHED0R     King          Newcastle    WA      98056.0        2024   \n",
       "247340  1C4RJYC65R   Pierce           Puyallup    WA      98374.0        2024   \n",
       "247341  7SAYGDEE0P     King            Bothell    WA      98011.0        2023   \n",
       "247342  KNDPYDAH9P   Kitsap  Bainbridge Island    WA      98110.0        2023   \n",
       "247343  KNDPZDAH8P  Whatcom         Bellingham    WA      98226.0        2023   \n",
       "\n",
       "         Make           Model                   Electric Vehicle Type  \\\n",
       "247339  TESLA      CYBERTRUCK          Battery Electric Vehicle (BEV)   \n",
       "247340   JEEP  GRAND CHEROKEE  Plug-in Hybrid Electric Vehicle (PHEV)   \n",
       "247341  TESLA         MODEL Y          Battery Electric Vehicle (BEV)   \n",
       "247342    KIA        SPORTAGE  Plug-in Hybrid Electric Vehicle (PHEV)   \n",
       "247343    KIA        SPORTAGE  Plug-in Hybrid Electric Vehicle (PHEV)   \n",
       "\n",
       "        Clean Alternative Fuel Vehicle (CAFV) Eligibility  Electric Range  \\\n",
       "247339  Eligibility unknown as battery range has not b...             0.0   \n",
       "247340              Not eligible due to low battery range            25.0   \n",
       "247341  Eligibility unknown as battery range has not b...             0.0   \n",
       "247342            Clean Alternative Fuel Vehicle Eligible            34.0   \n",
       "247343            Clean Alternative Fuel Vehicle Eligible            34.0   \n",
       "\n",
       "        Base MSRP  Legislative District  DOL Vehicle ID  \\\n",
       "247339        0.0                  41.0       278417947   \n",
       "247340        0.0                  25.0       271451197   \n",
       "247341        0.0                   1.0       249563667   \n",
       "247342        0.0                  23.0       238968376   \n",
       "247343        0.0                  42.0       253768637   \n",
       "\n",
       "                   Vehicle Location  \\\n",
       "247339   POINT (-122.1805 47.50006)   \n",
       "247340  POINT (-122.27575 47.13959)   \n",
       "247341  POINT (-122.20563 47.76144)   \n",
       "247342    POINT (-122.521 47.62728)   \n",
       "247343   POINT (-122.49756 48.7999)   \n",
       "\n",
       "                                         Electric Utility  2020 Census Tract  \n",
       "247339      PUGET SOUND ENERGY INC||CITY OF TACOMA - (WA)       5.303303e+10  \n",
       "247340      PUGET SOUND ENERGY INC||CITY OF TACOMA - (WA)       5.305307e+10  \n",
       "247341      PUGET SOUND ENERGY INC||CITY OF TACOMA - (WA)       5.303302e+10  \n",
       "247342                             PUGET SOUND ENERGY INC       5.303509e+10  \n",
       "247343  PUGET SOUND ENERGY INC||PUD NO 1 OF WHATCOM CO...       5.307300e+10  "
      ]
     },
     "execution_count": 18,
     "metadata": {},
     "output_type": "execute_result"
    }
   ],
   "source": [
    "# View the last 5 rows of the dataset\n",
    "df.tail()"
   ]
  },
  {
   "cell_type": "markdown",
   "id": "ff9d5200-c01f-4503-95aa-8ac110e550f2",
   "metadata": {},
   "source": [
    "**Shape of the dataset**"
   ]
  },
  {
   "cell_type": "code",
   "execution_count": 20,
   "id": "31aa0fca-cd22-43d7-a10d-40dad0ab8a75",
   "metadata": {},
   "outputs": [
    {
     "name": "stdout",
     "output_type": "stream",
     "text": [
      "Shape of the dataset: (247344, 17)\n"
     ]
    }
   ],
   "source": [
    "print(\"Shape of the dataset:\", df.shape)"
   ]
  },
  {
   "cell_type": "markdown",
   "id": "75cb1382-c76d-4379-b12d-b35ce2471f0f",
   "metadata": {},
   "source": [
    "**Dataset Info**"
   ]
  },
  {
   "cell_type": "code",
   "execution_count": 22,
   "id": "b2a1d370-a935-4521-8099-a0e1c8f960f5",
   "metadata": {},
   "outputs": [
    {
     "name": "stdout",
     "output_type": "stream",
     "text": [
      "<class 'pandas.core.frame.DataFrame'>\n",
      "RangeIndex: 247344 entries, 0 to 247343\n",
      "Data columns (total 17 columns):\n",
      " #   Column                                             Non-Null Count   Dtype  \n",
      "---  ------                                             --------------   -----  \n",
      " 0   VIN (1-10)                                         247344 non-null  object \n",
      " 1   County                                             247340 non-null  object \n",
      " 2   City                                               247340 non-null  object \n",
      " 3   State                                              247344 non-null  object \n",
      " 4   Postal Code                                        247340 non-null  float64\n",
      " 5   Model Year                                         247344 non-null  int64  \n",
      " 6   Make                                               247344 non-null  object \n",
      " 7   Model                                              247344 non-null  object \n",
      " 8   Electric Vehicle Type                              247344 non-null  object \n",
      " 9   Clean Alternative Fuel Vehicle (CAFV) Eligibility  247344 non-null  object \n",
      " 10  Electric Range                                     247324 non-null  float64\n",
      " 11  Base MSRP                                          247324 non-null  float64\n",
      " 12  Legislative District                               246791 non-null  float64\n",
      " 13  DOL Vehicle ID                                     247344 non-null  int64  \n",
      " 14  Vehicle Location                                   247333 non-null  object \n",
      " 15  Electric Utility                                   247340 non-null  object \n",
      " 16  2020 Census Tract                                  247340 non-null  float64\n",
      "dtypes: float64(5), int64(2), object(10)\n",
      "memory usage: 32.1+ MB\n"
     ]
    }
   ],
   "source": [
    "# Display dataset structure and datatypes\n",
    "df.info()"
   ]
  },
  {
   "cell_type": "markdown",
   "id": "7987ee7d-b6a0-40ed-809a-65637593a0ea",
   "metadata": {},
   "source": [
    "**Check for Missing Values**"
   ]
  },
  {
   "cell_type": "code",
   "execution_count": 24,
   "id": "0fa0a163-d955-4606-a7c9-0426020a056e",
   "metadata": {},
   "outputs": [
    {
     "data": {
      "text/plain": [
       "VIN (1-10)                                             0\n",
       "County                                                 4\n",
       "City                                                   4\n",
       "State                                                  0\n",
       "Postal Code                                            4\n",
       "Model Year                                             0\n",
       "Make                                                   0\n",
       "Model                                                  0\n",
       "Electric Vehicle Type                                  0\n",
       "Clean Alternative Fuel Vehicle (CAFV) Eligibility      0\n",
       "Electric Range                                        20\n",
       "Base MSRP                                             20\n",
       "Legislative District                                 553\n",
       "DOL Vehicle ID                                         0\n",
       "Vehicle Location                                      11\n",
       "Electric Utility                                       4\n",
       "2020 Census Tract                                      4\n",
       "dtype: int64"
      ]
     },
     "execution_count": 24,
     "metadata": {},
     "output_type": "execute_result"
    }
   ],
   "source": [
    "# Check for missing/null values in the dataset\n",
    "df.isnull().sum()"
   ]
  },
  {
   "cell_type": "markdown",
   "id": "f789cce5-ee73-4e7e-81b8-75a53a2cdd3c",
   "metadata": {},
   "source": [
    "**Check and Remove Duplicate Rows**"
   ]
  },
  {
   "cell_type": "code",
   "execution_count": 26,
   "id": "fbcb43c7-9ef1-4d8b-9875-f17267606426",
   "metadata": {},
   "outputs": [
    {
     "name": "stdout",
     "output_type": "stream",
     "text": [
      "Number of duplicate rows: 0\n"
     ]
    }
   ],
   "source": [
    "# Remove duplicate rows if present\n",
    "print(\"Number of duplicate rows:\", df.duplicated().sum())\n",
    "df.drop_duplicates(inplace=True)"
   ]
  },
  {
   "cell_type": "markdown",
   "id": "b066678b-a0f0-47db-9f30-f3847ab9c3b5",
   "metadata": {},
   "source": [
    "**Value Counts for Key Categorical Columns**"
   ]
  },
  {
   "cell_type": "code",
   "execution_count": 28,
   "id": "c9dbe1f9-96b6-41c7-9f11-e07a16d04077",
   "metadata": {},
   "outputs": [
    {
     "name": "stdout",
     "output_type": "stream",
     "text": [
      "EV Type:\n",
      " Electric Vehicle Type\n",
      "Battery Electric Vehicle (BEV)            197146\n",
      "Plug-in Hybrid Electric Vehicle (PHEV)     50198\n",
      "Name: count, dtype: int64\n",
      "\n",
      "Top 5 Makes:\n",
      " Make\n",
      "TESLA        105001\n",
      "CHEVROLET     17840\n",
      "NISSAN        15892\n",
      "FORD          13270\n",
      "KIA           11978\n",
      "Name: count, dtype: int64\n",
      "\n",
      "Top 5 Models:\n",
      " Model\n",
      "MODEL Y    51528\n",
      "MODEL 3    37427\n",
      "LEAF       13950\n",
      "MODEL S     7912\n",
      "BOLT EV     7463\n",
      "Name: count, dtype: int64\n"
     ]
    }
   ],
   "source": [
    "# Show value counts for key categorical columns\n",
    "print(\"EV Type:\\n\", df['Electric Vehicle Type'].value_counts())\n",
    "print(\"\\nTop 5 Makes:\\n\", df['Make'].value_counts().head())\n",
    "print(\"\\nTop 5 Models:\\n\", df['Model'].value_counts().head())"
   ]
  },
  {
   "cell_type": "markdown",
   "id": "b121b8b6-b254-42e7-b609-c975d0b791d9",
   "metadata": {},
   "source": [
    "**Convert Columns to Numeric**"
   ]
  },
  {
   "cell_type": "code",
   "execution_count": 30,
   "id": "54fe5226-f4ab-4a1b-a222-1396337ef951",
   "metadata": {},
   "outputs": [],
   "source": [
    "# Convert Electric Range and Base MSRP to numeric\n",
    "df['Electric Range'] = pd.to_numeric(df['Electric Range'], errors='coerce')\n",
    "df['Base MSRP'] = pd.to_numeric(df['Base MSRP'], errors='coerce')"
   ]
  },
  {
   "cell_type": "markdown",
   "id": "55d4eb64-4b49-4b42-898d-c2b800415bd6",
   "metadata": {},
   "source": [
    "**Handle Missing Values**"
   ]
  },
  {
   "cell_type": "code",
   "execution_count": 32,
   "id": "393bafeb-13a8-428e-9818-95d1a3c58b06",
   "metadata": {},
   "outputs": [],
   "source": [
    "# Fill missing numeric values with median, others with 'Unknown'\n",
    "df['Electric Range'].fillna(df['Electric Range'].median(), inplace=True)\n",
    "df['Base MSRP'].fillna(df['Base MSRP'].median(), inplace=True)\n",
    "df.fillna(\"Unknown\", inplace=True)"
   ]
  },
  {
   "cell_type": "markdown",
   "id": "269a2c5a-abfa-4769-8634-b0123a5768f5",
   "metadata": {},
   "source": [
    "**Create New Feature – Vehicle Age**"
   ]
  },
  {
   "cell_type": "code",
   "execution_count": 34,
   "id": "3692e69b-906f-446b-b489-07578562753e",
   "metadata": {},
   "outputs": [],
   "source": [
    "# Create a new column for Vehicle Age\n",
    "df['Vehicle Age'] = 2025 - df['Model Year']"
   ]
  },
  {
   "cell_type": "markdown",
   "id": "30bff5be-4b3a-487f-a294-46c6893e074b",
   "metadata": {},
   "source": [
    "**Handle Skewness in Numerical Features**"
   ]
  },
  {
   "cell_type": "code",
   "execution_count": 36,
   "id": "d3fb9cf4-0b17-4b55-a2de-11e1cc7e8a69",
   "metadata": {},
   "outputs": [],
   "source": [
    "# Apply log1p transformation if skewness > 1\n",
    "for col in ['Electric Range', 'Base MSRP']:\n",
    "    if abs(skew(df[col])) > 1:\n",
    "        df[col] = np.log1p(df[col])"
   ]
  },
  {
   "cell_type": "markdown",
   "id": "cae43907-de80-461e-bbf6-285d8f1ab8d8",
   "metadata": {},
   "source": [
    "**Outlier Detection and Removal (IQR Method)**"
   ]
  },
  {
   "cell_type": "code",
   "execution_count": 38,
   "id": "c78a6c52-3a88-49a1-a0e8-36d7d44895bf",
   "metadata": {},
   "outputs": [],
   "source": [
    "# Apply IQR method to multiple numerical columns\n",
    "for col in ['Electric Range', 'Base MSRP']:\n",
    "    Q1 = df[col].quantile(0.25)\n",
    "    Q3 = df[col].quantile(0.75)\n",
    "    IQR = Q3 - Q1\n",
    "    lower = Q1 - 1.5 * IQR\n",
    "    upper = Q3 + 1.5 * IQR\n",
    "    df = df[(df[col] >= lower) & (df[col] <= upper)]\n"
   ]
  },
  {
   "cell_type": "markdown",
   "id": "7067ee19-99f4-4470-9015-86141c319e35",
   "metadata": {},
   "source": [
    "**Encode Categorical Features**"
   ]
  },
  {
   "cell_type": "code",
   "execution_count": 40,
   "id": "c553fac3-21b7-4711-9d46-6925ab31c5b1",
   "metadata": {},
   "outputs": [],
   "source": [
    "# Encode categorical variables with LabelEncoder\n",
    "le = LabelEncoder()\n",
    "df['Electric Vehicle Type'] = le.fit_transform(df['Electric Vehicle Type'])\n",
    "df['CAFV Eligibility'] = le.fit_transform(df['Clean Alternative Fuel Vehicle (CAFV) Eligibility'])"
   ]
  },
  {
   "cell_type": "markdown",
   "id": "917ddc22-d8d9-4264-a975-7cfb73ef6a33",
   "metadata": {},
   "source": [
    "**Summary of Cleaned Data**"
   ]
  },
  {
   "cell_type": "code",
   "execution_count": 42,
   "id": "03501e6a-f4d3-43cd-8b8e-87cdf658fa91",
   "metadata": {},
   "outputs": [
    {
     "data": {
      "text/html": [
       "<div>\n",
       "<style scoped>\n",
       "    .dataframe tbody tr th:only-of-type {\n",
       "        vertical-align: middle;\n",
       "    }\n",
       "\n",
       "    .dataframe tbody tr th {\n",
       "        vertical-align: top;\n",
       "    }\n",
       "\n",
       "    .dataframe thead th {\n",
       "        text-align: right;\n",
       "    }\n",
       "</style>\n",
       "<table border=\"1\" class=\"dataframe\">\n",
       "  <thead>\n",
       "    <tr style=\"text-align: right;\">\n",
       "      <th></th>\n",
       "      <th>VIN (1-10)</th>\n",
       "      <th>County</th>\n",
       "      <th>City</th>\n",
       "      <th>State</th>\n",
       "      <th>Postal Code</th>\n",
       "      <th>Model Year</th>\n",
       "      <th>Make</th>\n",
       "      <th>Model</th>\n",
       "      <th>Electric Vehicle Type</th>\n",
       "      <th>Clean Alternative Fuel Vehicle (CAFV) Eligibility</th>\n",
       "      <th>Electric Range</th>\n",
       "      <th>Base MSRP</th>\n",
       "      <th>Legislative District</th>\n",
       "      <th>DOL Vehicle ID</th>\n",
       "      <th>Vehicle Location</th>\n",
       "      <th>Electric Utility</th>\n",
       "      <th>2020 Census Tract</th>\n",
       "      <th>Vehicle Age</th>\n",
       "      <th>CAFV Eligibility</th>\n",
       "    </tr>\n",
       "  </thead>\n",
       "  <tbody>\n",
       "    <tr>\n",
       "      <th>count</th>\n",
       "      <td>244128</td>\n",
       "      <td>244128</td>\n",
       "      <td>244128</td>\n",
       "      <td>244128</td>\n",
       "      <td>244128.0</td>\n",
       "      <td>244128.000000</td>\n",
       "      <td>244128</td>\n",
       "      <td>244128</td>\n",
       "      <td>244128.000000</td>\n",
       "      <td>244128</td>\n",
       "      <td>244128.000000</td>\n",
       "      <td>244128.0</td>\n",
       "      <td>244128.0</td>\n",
       "      <td>2.441280e+05</td>\n",
       "      <td>244128</td>\n",
       "      <td>244128</td>\n",
       "      <td>2.441280e+05</td>\n",
       "      <td>244128.000000</td>\n",
       "      <td>244128.000000</td>\n",
       "    </tr>\n",
       "    <tr>\n",
       "      <th>unique</th>\n",
       "      <td>14230</td>\n",
       "      <td>216</td>\n",
       "      <td>805</td>\n",
       "      <td>48</td>\n",
       "      <td>995.0</td>\n",
       "      <td>NaN</td>\n",
       "      <td>45</td>\n",
       "      <td>172</td>\n",
       "      <td>NaN</td>\n",
       "      <td>3</td>\n",
       "      <td>NaN</td>\n",
       "      <td>NaN</td>\n",
       "      <td>50.0</td>\n",
       "      <td>NaN</td>\n",
       "      <td>994</td>\n",
       "      <td>76</td>\n",
       "      <td>2.244000e+03</td>\n",
       "      <td>NaN</td>\n",
       "      <td>NaN</td>\n",
       "    </tr>\n",
       "    <tr>\n",
       "      <th>top</th>\n",
       "      <td>7SAYGDEE6P</td>\n",
       "      <td>King</td>\n",
       "      <td>Seattle</td>\n",
       "      <td>WA</td>\n",
       "      <td>98052.0</td>\n",
       "      <td>NaN</td>\n",
       "      <td>TESLA</td>\n",
       "      <td>MODEL Y</td>\n",
       "      <td>NaN</td>\n",
       "      <td>Eligibility unknown as battery range has not b...</td>\n",
       "      <td>NaN</td>\n",
       "      <td>NaN</td>\n",
       "      <td>41.0</td>\n",
       "      <td>NaN</td>\n",
       "      <td>POINT (-122.13158 47.67858)</td>\n",
       "      <td>PUGET SOUND ENERGY INC||CITY OF TACOMA - (WA)</td>\n",
       "      <td>5.303303e+10</td>\n",
       "      <td>NaN</td>\n",
       "      <td>NaN</td>\n",
       "    </tr>\n",
       "    <tr>\n",
       "      <th>freq</th>\n",
       "      <td>1199</td>\n",
       "      <td>121227</td>\n",
       "      <td>39014</td>\n",
       "      <td>243586</td>\n",
       "      <td>6041.0</td>\n",
       "      <td>NaN</td>\n",
       "      <td>103558</td>\n",
       "      <td>51528</td>\n",
       "      <td>NaN</td>\n",
       "      <td>149634</td>\n",
       "      <td>NaN</td>\n",
       "      <td>NaN</td>\n",
       "      <td>15030.0</td>\n",
       "      <td>NaN</td>\n",
       "      <td>6041</td>\n",
       "      <td>86439</td>\n",
       "      <td>1.052000e+03</td>\n",
       "      <td>NaN</td>\n",
       "      <td>NaN</td>\n",
       "    </tr>\n",
       "    <tr>\n",
       "      <th>mean</th>\n",
       "      <td>NaN</td>\n",
       "      <td>NaN</td>\n",
       "      <td>NaN</td>\n",
       "      <td>NaN</td>\n",
       "      <td>NaN</td>\n",
       "      <td>2021.649860</td>\n",
       "      <td>NaN</td>\n",
       "      <td>NaN</td>\n",
       "      <td>0.200637</td>\n",
       "      <td>NaN</td>\n",
       "      <td>1.654875</td>\n",
       "      <td>0.0</td>\n",
       "      <td>NaN</td>\n",
       "      <td>2.385505e+08</td>\n",
       "      <td>NaN</td>\n",
       "      <td>NaN</td>\n",
       "      <td>NaN</td>\n",
       "      <td>3.350140</td>\n",
       "      <td>0.794100</td>\n",
       "    </tr>\n",
       "    <tr>\n",
       "      <th>std</th>\n",
       "      <td>NaN</td>\n",
       "      <td>NaN</td>\n",
       "      <td>NaN</td>\n",
       "      <td>NaN</td>\n",
       "      <td>NaN</td>\n",
       "      <td>2.943304</td>\n",
       "      <td>NaN</td>\n",
       "      <td>NaN</td>\n",
       "      <td>0.400477</td>\n",
       "      <td>NaN</td>\n",
       "      <td>2.174821</td>\n",
       "      <td>0.0</td>\n",
       "      <td>NaN</td>\n",
       "      <td>6.655734e+07</td>\n",
       "      <td>NaN</td>\n",
       "      <td>NaN</td>\n",
       "      <td>NaN</td>\n",
       "      <td>2.943304</td>\n",
       "      <td>0.587089</td>\n",
       "    </tr>\n",
       "    <tr>\n",
       "      <th>min</th>\n",
       "      <td>NaN</td>\n",
       "      <td>NaN</td>\n",
       "      <td>NaN</td>\n",
       "      <td>NaN</td>\n",
       "      <td>NaN</td>\n",
       "      <td>2000.000000</td>\n",
       "      <td>NaN</td>\n",
       "      <td>NaN</td>\n",
       "      <td>0.000000</td>\n",
       "      <td>NaN</td>\n",
       "      <td>0.000000</td>\n",
       "      <td>0.0</td>\n",
       "      <td>NaN</td>\n",
       "      <td>4.385000e+03</td>\n",
       "      <td>NaN</td>\n",
       "      <td>NaN</td>\n",
       "      <td>NaN</td>\n",
       "      <td>-1.000000</td>\n",
       "      <td>0.000000</td>\n",
       "    </tr>\n",
       "    <tr>\n",
       "      <th>25%</th>\n",
       "      <td>NaN</td>\n",
       "      <td>NaN</td>\n",
       "      <td>NaN</td>\n",
       "      <td>NaN</td>\n",
       "      <td>NaN</td>\n",
       "      <td>2020.000000</td>\n",
       "      <td>NaN</td>\n",
       "      <td>NaN</td>\n",
       "      <td>0.000000</td>\n",
       "      <td>NaN</td>\n",
       "      <td>0.000000</td>\n",
       "      <td>0.0</td>\n",
       "      <td>NaN</td>\n",
       "      <td>2.098606e+08</td>\n",
       "      <td>NaN</td>\n",
       "      <td>NaN</td>\n",
       "      <td>NaN</td>\n",
       "      <td>1.000000</td>\n",
       "      <td>0.000000</td>\n",
       "    </tr>\n",
       "    <tr>\n",
       "      <th>50%</th>\n",
       "      <td>NaN</td>\n",
       "      <td>NaN</td>\n",
       "      <td>NaN</td>\n",
       "      <td>NaN</td>\n",
       "      <td>NaN</td>\n",
       "      <td>2023.000000</td>\n",
       "      <td>NaN</td>\n",
       "      <td>NaN</td>\n",
       "      <td>0.000000</td>\n",
       "      <td>NaN</td>\n",
       "      <td>0.000000</td>\n",
       "      <td>0.0</td>\n",
       "      <td>NaN</td>\n",
       "      <td>2.562667e+08</td>\n",
       "      <td>NaN</td>\n",
       "      <td>NaN</td>\n",
       "      <td>NaN</td>\n",
       "      <td>2.000000</td>\n",
       "      <td>1.000000</td>\n",
       "    </tr>\n",
       "    <tr>\n",
       "      <th>75%</th>\n",
       "      <td>NaN</td>\n",
       "      <td>NaN</td>\n",
       "      <td>NaN</td>\n",
       "      <td>NaN</td>\n",
       "      <td>NaN</td>\n",
       "      <td>2024.000000</td>\n",
       "      <td>NaN</td>\n",
       "      <td>NaN</td>\n",
       "      <td>0.000000</td>\n",
       "      <td>NaN</td>\n",
       "      <td>3.583519</td>\n",
       "      <td>0.0</td>\n",
       "      <td>NaN</td>\n",
       "      <td>2.723878e+08</td>\n",
       "      <td>NaN</td>\n",
       "      <td>NaN</td>\n",
       "      <td>NaN</td>\n",
       "      <td>5.000000</td>\n",
       "      <td>1.000000</td>\n",
       "    </tr>\n",
       "    <tr>\n",
       "      <th>max</th>\n",
       "      <td>NaN</td>\n",
       "      <td>NaN</td>\n",
       "      <td>NaN</td>\n",
       "      <td>NaN</td>\n",
       "      <td>NaN</td>\n",
       "      <td>2026.000000</td>\n",
       "      <td>NaN</td>\n",
       "      <td>NaN</td>\n",
       "      <td>1.000000</td>\n",
       "      <td>NaN</td>\n",
       "      <td>5.823046</td>\n",
       "      <td>0.0</td>\n",
       "      <td>NaN</td>\n",
       "      <td>4.792548e+08</td>\n",
       "      <td>NaN</td>\n",
       "      <td>NaN</td>\n",
       "      <td>NaN</td>\n",
       "      <td>25.000000</td>\n",
       "      <td>2.000000</td>\n",
       "    </tr>\n",
       "  </tbody>\n",
       "</table>\n",
       "</div>"
      ],
      "text/plain": [
       "        VIN (1-10)  County     City   State  Postal Code     Model Year  \\\n",
       "count       244128  244128   244128  244128     244128.0  244128.000000   \n",
       "unique       14230     216      805      48        995.0            NaN   \n",
       "top     7SAYGDEE6P    King  Seattle      WA      98052.0            NaN   \n",
       "freq          1199  121227    39014  243586       6041.0            NaN   \n",
       "mean           NaN     NaN      NaN     NaN          NaN    2021.649860   \n",
       "std            NaN     NaN      NaN     NaN          NaN       2.943304   \n",
       "min            NaN     NaN      NaN     NaN          NaN    2000.000000   \n",
       "25%            NaN     NaN      NaN     NaN          NaN    2020.000000   \n",
       "50%            NaN     NaN      NaN     NaN          NaN    2023.000000   \n",
       "75%            NaN     NaN      NaN     NaN          NaN    2024.000000   \n",
       "max            NaN     NaN      NaN     NaN          NaN    2026.000000   \n",
       "\n",
       "          Make    Model  Electric Vehicle Type  \\\n",
       "count   244128   244128          244128.000000   \n",
       "unique      45      172                    NaN   \n",
       "top      TESLA  MODEL Y                    NaN   \n",
       "freq    103558    51528                    NaN   \n",
       "mean       NaN      NaN               0.200637   \n",
       "std        NaN      NaN               0.400477   \n",
       "min        NaN      NaN               0.000000   \n",
       "25%        NaN      NaN               0.000000   \n",
       "50%        NaN      NaN               0.000000   \n",
       "75%        NaN      NaN               0.000000   \n",
       "max        NaN      NaN               1.000000   \n",
       "\n",
       "        Clean Alternative Fuel Vehicle (CAFV) Eligibility  Electric Range  \\\n",
       "count                                              244128   244128.000000   \n",
       "unique                                                  3             NaN   \n",
       "top     Eligibility unknown as battery range has not b...             NaN   \n",
       "freq                                               149634             NaN   \n",
       "mean                                                  NaN        1.654875   \n",
       "std                                                   NaN        2.174821   \n",
       "min                                                   NaN        0.000000   \n",
       "25%                                                   NaN        0.000000   \n",
       "50%                                                   NaN        0.000000   \n",
       "75%                                                   NaN        3.583519   \n",
       "max                                                   NaN        5.823046   \n",
       "\n",
       "        Base MSRP  Legislative District  DOL Vehicle ID  \\\n",
       "count    244128.0              244128.0    2.441280e+05   \n",
       "unique        NaN                  50.0             NaN   \n",
       "top           NaN                  41.0             NaN   \n",
       "freq          NaN               15030.0             NaN   \n",
       "mean          0.0                   NaN    2.385505e+08   \n",
       "std           0.0                   NaN    6.655734e+07   \n",
       "min           0.0                   NaN    4.385000e+03   \n",
       "25%           0.0                   NaN    2.098606e+08   \n",
       "50%           0.0                   NaN    2.562667e+08   \n",
       "75%           0.0                   NaN    2.723878e+08   \n",
       "max           0.0                   NaN    4.792548e+08   \n",
       "\n",
       "                   Vehicle Location  \\\n",
       "count                        244128   \n",
       "unique                          994   \n",
       "top     POINT (-122.13158 47.67858)   \n",
       "freq                           6041   \n",
       "mean                            NaN   \n",
       "std                             NaN   \n",
       "min                             NaN   \n",
       "25%                             NaN   \n",
       "50%                             NaN   \n",
       "75%                             NaN   \n",
       "max                             NaN   \n",
       "\n",
       "                                     Electric Utility  2020 Census Tract  \\\n",
       "count                                          244128       2.441280e+05   \n",
       "unique                                             76       2.244000e+03   \n",
       "top     PUGET SOUND ENERGY INC||CITY OF TACOMA - (WA)       5.303303e+10   \n",
       "freq                                            86439       1.052000e+03   \n",
       "mean                                              NaN                NaN   \n",
       "std                                               NaN                NaN   \n",
       "min                                               NaN                NaN   \n",
       "25%                                               NaN                NaN   \n",
       "50%                                               NaN                NaN   \n",
       "75%                                               NaN                NaN   \n",
       "max                                               NaN                NaN   \n",
       "\n",
       "          Vehicle Age  CAFV Eligibility  \n",
       "count   244128.000000     244128.000000  \n",
       "unique            NaN               NaN  \n",
       "top               NaN               NaN  \n",
       "freq              NaN               NaN  \n",
       "mean         3.350140          0.794100  \n",
       "std          2.943304          0.587089  \n",
       "min         -1.000000          0.000000  \n",
       "25%          1.000000          0.000000  \n",
       "50%          2.000000          1.000000  \n",
       "75%          5.000000          1.000000  \n",
       "max         25.000000          2.000000  "
      ]
     },
     "execution_count": 42,
     "metadata": {},
     "output_type": "execute_result"
    }
   ],
   "source": [
    "# Describe statistics for cleaned dataset\n",
    "df.describe(include='all')"
   ]
  },
  {
   "cell_type": "markdown",
   "id": "780a3a71-47c2-472a-9fe9-83196e6e1a20",
   "metadata": {},
   "source": [
    "**Final Check**"
   ]
  },
  {
   "cell_type": "code",
   "execution_count": 44,
   "id": "5717b931-79ac-4844-82de-f10f3532812e",
   "metadata": {},
   "outputs": [
    {
     "name": "stdout",
     "output_type": "stream",
     "text": [
      "<class 'pandas.core.frame.DataFrame'>\n",
      "Index: 244128 entries, 0 to 247343\n",
      "Data columns (total 19 columns):\n",
      " #   Column                                             Non-Null Count   Dtype  \n",
      "---  ------                                             --------------   -----  \n",
      " 0   VIN (1-10)                                         244128 non-null  object \n",
      " 1   County                                             244128 non-null  object \n",
      " 2   City                                               244128 non-null  object \n",
      " 3   State                                              244128 non-null  object \n",
      " 4   Postal Code                                        244128 non-null  object \n",
      " 5   Model Year                                         244128 non-null  int64  \n",
      " 6   Make                                               244128 non-null  object \n",
      " 7   Model                                              244128 non-null  object \n",
      " 8   Electric Vehicle Type                              244128 non-null  int32  \n",
      " 9   Clean Alternative Fuel Vehicle (CAFV) Eligibility  244128 non-null  object \n",
      " 10  Electric Range                                     244128 non-null  float64\n",
      " 11  Base MSRP                                          244128 non-null  float64\n",
      " 12  Legislative District                               244128 non-null  object \n",
      " 13  DOL Vehicle ID                                     244128 non-null  int64  \n",
      " 14  Vehicle Location                                   244128 non-null  object \n",
      " 15  Electric Utility                                   244128 non-null  object \n",
      " 16  2020 Census Tract                                  244128 non-null  object \n",
      " 17  Vehicle Age                                        244128 non-null  int64  \n",
      " 18  CAFV Eligibility                                   244128 non-null  int32  \n",
      "dtypes: float64(2), int32(2), int64(3), object(12)\n",
      "memory usage: 35.4+ MB\n"
     ]
    },
    {
     "data": {
      "text/plain": [
       "VIN (1-10)                                           0\n",
       "County                                               0\n",
       "City                                                 0\n",
       "State                                                0\n",
       "Postal Code                                          0\n",
       "Model Year                                           0\n",
       "Make                                                 0\n",
       "Model                                                0\n",
       "Electric Vehicle Type                                0\n",
       "Clean Alternative Fuel Vehicle (CAFV) Eligibility    0\n",
       "Electric Range                                       0\n",
       "Base MSRP                                            0\n",
       "Legislative District                                 0\n",
       "DOL Vehicle ID                                       0\n",
       "Vehicle Location                                     0\n",
       "Electric Utility                                     0\n",
       "2020 Census Tract                                    0\n",
       "Vehicle Age                                          0\n",
       "CAFV Eligibility                                     0\n",
       "dtype: int64"
      ]
     },
     "execution_count": 44,
     "metadata": {},
     "output_type": "execute_result"
    }
   ],
   "source": [
    "df.info()\n",
    "df.isnull().sum()"
   ]
  },
  {
   "cell_type": "markdown",
   "id": "f235cd8a-acda-4586-a6c7-200a8d2defe5",
   "metadata": {},
   "source": [
    "# Exploratory Data Analysis (EDA)"
   ]
  },
  {
   "cell_type": "markdown",
   "id": "1338e941-a16a-47d8-a75c-cb81983651f5",
   "metadata": {},
   "source": [
    "**EV Type Distribution**"
   ]
  },
  {
   "cell_type": "code",
   "execution_count": 47,
   "id": "0b6e9c48-1a40-4530-9895-8f74ae710aa6",
   "metadata": {},
   "outputs": [
    {
     "data": {
      "image/png": "[encoded data removed]",
      "text/plain": [
       "<Figure size 600x400 with 1 Axes>"
      ]
     },
     "metadata": {},
     "output_type": "display_data"
    }
   ],
   "source": [
    "#  Plot distribution of EV Types\n",
    "plt.figure(figsize=(6,4))\n",
    "sns.countplot(data=df, x='Electric Vehicle Type')\n",
    "plt.title('Distribution of EV Types')\n",
    "plt.xlabel('Type')\n",
    "plt.ylabel('Count')\n",
    "plt.show()"
   ]
  },
  {
   "cell_type": "markdown",
   "id": "18c7c1d0-2bcb-4f0a-9373-66ee0e630711",
   "metadata": {},
   "source": [
    "**Top 10 EV Manufacturers**"
   ]
  },
  {
   "cell_type": "code",
   "execution_count": 49,
   "id": "adcfd44f-0fb6-4716-8af7-a37d6089c388",
   "metadata": {},
   "outputs": [
    {
     "data": {
      "image/png": "[encoded data removed]",
      "text/plain": [
       "<Figure size 800x500 with 1 Axes>"
      ]
     },
     "metadata": {},
     "output_type": "display_data"
    }
   ],
   "source": [
    "# Top 10 vehicle makes with most EVs\n",
    "plt.figure(figsize=(8,5))\n",
    "top_makes = df['Make'].value_counts().head(10)\n",
    "sns.barplot(x=top_makes.values, y=top_makes.index, palette='coolwarm')\n",
    "plt.title('Top 10 EV Manufacturers')\n",
    "plt.xlabel('Number of Vehicles')\n",
    "plt.ylabel('Make')\n",
    "plt.show()"
   ]
  },
  {
   "cell_type": "markdown",
   "id": "9b85b430-3f40-46f3-a2ef-e878f0116fa4",
   "metadata": {},
   "source": [
    "**Distribution of Electric Range**"
   ]
  },
  {
   "cell_type": "code",
   "execution_count": 51,
   "id": "0f391031-c2e9-4e4d-af64-fafd8a72a4b2",
   "metadata": {},
   "outputs": [
    {
     "data": {
      "image/png": "[encoded data removed]",
      "text/plain": [
       "<Figure size 800x500 with 1 Axes>"
      ]
     },
     "metadata": {},
     "output_type": "display_data"
    }
   ],
   "source": [
    "# Distribution of Electric Range (after log transformation)\n",
    "plt.figure(figsize=(8,5))\n",
    "sns.histplot(df['Electric Range'], bins=30, kde=True, color='skyblue')\n",
    "plt.title('Distribution of Electric Range')\n",
    "plt.xlabel('Log Electric Range')\n",
    "plt.ylabel('Frequency')\n",
    "plt.show()"
   ]
  },
  {
   "cell_type": "markdown",
   "id": "759c76f5-a1bc-4b4a-93ef-3b02e9610b6f",
   "metadata": {},
   "source": [
    "**Distribution of Base MSRP**"
   ]
  },
  {
   "cell_type": "code",
   "execution_count": 53,
   "id": "95b3f516-feb8-41fc-968e-c905f2c83f14",
   "metadata": {},
   "outputs": [
    {
     "data": {
      "image/png": "[encoded data removed]",
      "text/plain": [
       "<Figure size 800x500 with 1 Axes>"
      ]
     },
     "metadata": {},
     "output_type": "display_data"
    }
   ],
   "source": [
    "# Distribution of Base MSRP (after log transformation)\n",
    "plt.figure(figsize=(8,5))\n",
    "sns.histplot(df['Base MSRP'], bins=30, kde=True, color='salmon')\n",
    "plt.title('Distribution of Base MSRP')\n",
    "plt.xlabel('Log Base MSRP')\n",
    "plt.ylabel('Frequency')\n",
    "plt.show()"
   ]
  },
  {
   "cell_type": "markdown",
   "id": "938974cd-f23e-4ed3-95f4-0a811b051a75",
   "metadata": {},
   "source": [
    "**Top 10 Cities by EV Count**"
   ]
  },
  {
   "cell_type": "code",
   "execution_count": 55,
   "id": "5d48eda6-76ee-4188-9256-77abca4d3c13",
   "metadata": {},
   "outputs": [
    {
     "data": {
      "image/png": "[encoded data removed]",
      "text/plain": [
       "<Figure size 1000x600 with 1 Axes>"
      ]
     },
     "metadata": {},
     "output_type": "display_data"
    }
   ],
   "source": [
    "# Top 10 cities with the most EVs\n",
    "plt.figure(figsize=(10,6))\n",
    "top_cities = df['City'].value_counts().head(10)\n",
    "sns.barplot(x=top_cities.values, y=top_cities.index, palette='viridis')\n",
    "plt.title('Top 10 Cities with Most EVs')\n",
    "plt.xlabel('Number of Vehicles')\n",
    "plt.ylabel('City')\n",
    "plt.show()"
   ]
  },
  {
   "cell_type": "markdown",
   "id": "4c625d48-8227-4304-bae7-5fbb484ef7cf",
   "metadata": {},
   "source": [
    "# Model Building and Performance Evaluation"
   ]
  },
  {
   "cell_type": "markdown",
   "id": "193988f4-db88-40f5-a420-b993e5edde9d",
   "metadata": {},
   "source": [
    "**Define Features and Target**"
   ]
  },
  {
   "cell_type": "code",
   "execution_count": 133,
   "id": "d5c361a7-3161-441b-a475-3d3b0d6a27e5",
   "metadata": {},
   "outputs": [],
   "source": [
    "\n",
    "X = df.drop(['Model', 'City'], axis=1)\n",
    "y = df['Electric Vehicle Type']\n"
   ]
  },
  {
   "cell_type": "markdown",
   "id": "5c0819a6-95d5-44d4-9565-3cc898237285",
   "metadata": {},
   "source": [
    "**Encode Categorical Columns**"
   ]
  },
  {
   "cell_type": "code",
   "execution_count": 60,
   "id": "1ec947c1-9858-436c-b892-f25ef5e70c16",
   "metadata": {},
   "outputs": [],
   "source": [
    "for col in X.select_dtypes(include='object').columns:\n",
    "    X[col] = X[col].astype('category').cat.codes"
   ]
  },
  {
   "cell_type": "markdown",
   "id": "48ab0fd8-368a-49ed-92f7-bda878d98b9a",
   "metadata": {},
   "source": [
    "**Check Class Distribution**"
   ]
  },
  {
   "cell_type": "code",
   "execution_count": 62,
   "id": "f25539d4-cfaa-45a9-bc09-2680cfe9f109",
   "metadata": {},
   "outputs": [
    {
     "data": {
      "text/plain": [
       "Electric Vehicle Type\n",
       "0    0.799363\n",
       "1    0.200637\n",
       "Name: proportion, dtype: float64"
      ]
     },
     "execution_count": 62,
     "metadata": {},
     "output_type": "execute_result"
    }
   ],
   "source": [
    "y.value_counts(normalize=True)\n"
   ]
  },
  {
   "cell_type": "markdown",
   "id": "62424121-7609-4146-87f1-daf978a050c9",
   "metadata": {},
   "source": [
    "**Train-Test Split**"
   ]
  },
  {
   "cell_type": "code",
   "execution_count": 64,
   "id": "928b1f49-25ae-4d6e-91cb-cccac255275a",
   "metadata": {},
   "outputs": [],
   "source": [
    "from sklearn.model_selection import train_test_split\n",
    "X_train, X_test, y_train, y_test = train_test_split(X, y, test_size=0.2, stratify=y, random_state=42)\n"
   ]
  },
  {
   "cell_type": "markdown",
   "id": "204437ed-313e-44a9-ba9f-faadced56738",
   "metadata": {},
   "source": [
    "**Apply SMOTE**"
   ]
  },
  {
   "cell_type": "code",
   "execution_count": 66,
   "id": "0f72caca-3bb8-4e75-b26e-d58dd767fe1a",
   "metadata": {},
   "outputs": [],
   "source": [
    "from imblearn.over_sampling import SMOTE\n",
    "smote = SMOTE(random_state=42)\n",
    "X_train_res, y_train_res = smote.fit_resample(X_train, y_train)\n"
   ]
  },
  {
   "cell_type": "markdown",
   "id": "405ce380-9fee-4df8-9589-0a7f4ff4067f",
   "metadata": {},
   "source": [
    "**Feature Scaling**"
   ]
  },
  {
   "cell_type": "code",
   "execution_count": 68,
   "id": "3abb69c9-da03-4c23-9ff5-6c10d1331b47",
   "metadata": {},
   "outputs": [],
   "source": [
    "from sklearn.preprocessing import StandardScaler\n",
    "scaler = StandardScaler()\n",
    "X_train_scaled = scaler.fit_transform(X_train_res)\n",
    "X_test_scaled = scaler.transform(X_test)\n"
   ]
  },
  {
   "cell_type": "markdown",
   "id": "ddaecff8-6137-4532-b84f-95b08291afe0",
   "metadata": {},
   "source": [
    "**Train Multiple Models**"
   ]
  },
  {
   "cell_type": "code",
   "execution_count": 70,
   "id": "e1934edb-5249-4e59-8392-0df497663244",
   "metadata": {},
   "outputs": [
    {
     "name": "stdout",
     "output_type": "stream",
     "text": [
      "Random Forest trained successfully.\n",
      "Logistic Regression trained successfully.\n",
      "SVM trained successfully.\n",
      "Gradient Boosting trained successfully.\n"
     ]
    }
   ],
   "source": [
    "from sklearn.ensemble import RandomForestClassifier, GradientBoostingClassifier\n",
    "from sklearn.linear_model import LogisticRegression\n",
    "from sklearn.svm import SVC\n",
    "\n",
    "models = {\n",
    "    \"Random Forest\": RandomForestClassifier(n_estimators=100, random_state=42),\n",
    "    \"Logistic Regression\": LogisticRegression(max_iter=1000, random_state=42),\n",
    "    \"SVM\": SVC(probability=True, random_state=42),\n",
    "    \"Gradient Boosting\": GradientBoostingClassifier(random_state=42)\n",
    "}\n",
    "\n",
    "for name, model in models.items():\n",
    "    model.fit(X_train_scaled, y_train_res)\n",
    "    print(f\"{name} trained successfully.\")\n"
   ]
  },
  {
   "cell_type": "markdown",
   "id": "fe283713-7480-4704-a5d7-3aaaf40c671a",
   "metadata": {},
   "source": [
    "**Evaluate Models with Classification Reports**"
   ]
  },
  {
   "cell_type": "code",
   "execution_count": 103,
   "id": "ac0100ce-f42d-4712-8468-6ef02c04aaf2",
   "metadata": {},
   "outputs": [
    {
     "name": "stdout",
     "output_type": "stream",
     "text": [
      "\n",
      "Random Forest Classification Report:\n",
      "              precision    recall  f1-score   support\n",
      "\n",
      "           0       1.00      1.00      1.00     39030\n",
      "           1       1.00      1.00      1.00      9796\n",
      "\n",
      "    accuracy                           1.00     48826\n",
      "   macro avg       1.00      1.00      1.00     48826\n",
      "weighted avg       1.00      1.00      1.00     48826\n",
      "\n",
      "\n",
      "Logistic Regression Classification Report:\n",
      "              precision    recall  f1-score   support\n",
      "\n",
      "           0       1.00      1.00      1.00     39030\n",
      "           1       1.00      1.00      1.00      9796\n",
      "\n",
      "    accuracy                           1.00     48826\n",
      "   macro avg       1.00      1.00      1.00     48826\n",
      "weighted avg       1.00      1.00      1.00     48826\n",
      "\n",
      "\n",
      "SVM Classification Report:\n",
      "              precision    recall  f1-score   support\n",
      "\n",
      "           0       1.00      1.00      1.00     39030\n",
      "           1       1.00      1.00      1.00      9796\n",
      "\n",
      "    accuracy                           1.00     48826\n",
      "   macro avg       1.00      1.00      1.00     48826\n",
      "weighted avg       1.00      1.00      1.00     48826\n",
      "\n",
      "\n",
      "Gradient Boosting Classification Report:\n",
      "              precision    recall  f1-score   support\n",
      "\n",
      "           0       1.00      1.00      1.00     39030\n",
      "           1       1.00      1.00      1.00      9796\n",
      "\n",
      "    accuracy                           1.00     48826\n",
      "   macro avg       1.00      1.00      1.00     48826\n",
      "weighted avg       1.00      1.00      1.00     48826\n",
      "\n"
     ]
    }
   ],
   "source": [
    "from sklearn.metrics import classification_report, accuracy_score\n",
    "\n",
    "accuracy_scores = {}\n",
    "for name, model in models.items():\n",
    "    y_pred = model.predict(X_test_scaled)\n",
    "    accuracy_scores[name] = accuracy_score(y_test, y_pred)\n",
    "    print(f\"\\n{name} Classification Report:\")\n",
    "    print(classification_report(y_test, y_pred))\n"
   ]
  },
  {
   "cell_type": "markdown",
   "id": "42e5456b-1b73-4e61-9b63-e12324d4c3d9",
   "metadata": {},
   "source": [
    "**Accuracy Comparison Plot**"
   ]
  },
  {
   "cell_type": "code",
   "execution_count": 106,
   "id": "1cb31333-8d1c-40e7-9e22-73e3321282cc",
   "metadata": {},
   "outputs": [
    {
     "data": {
      "image/png": "[encoded data removed]",
      "text/plain": [
       "<Figure size 800x400 with 1 Axes>"
      ]
     },
     "metadata": {},
     "output_type": "display_data"
    }
   ],
   "source": [
    "import matplotlib.pyplot as plt\n",
    "import seaborn as sns\n",
    "\n",
    "plt.figure(figsize=(8,4))\n",
    "sns.barplot(x=list(accuracy_scores.keys()), y=list(accuracy_scores.values()), palette='pastel')\n",
    "plt.ylabel(\"Accuracy\")\n",
    "plt.title(\"Model Accuracy Comparison\")\n",
    "plt.ylim(0.5, 1)\n",
    "plt.xticks(rotation=30)\n",
    "plt.show()\n"
   ]
  },
  {
   "cell_type": "markdown",
   "id": "0cdf8f9f-3a2b-4445-b778-97dab48bca50",
   "metadata": {},
   "source": [
    "**AUC-ROC Curve for Each Model**"
   ]
  },
  {
   "cell_type": "code",
   "execution_count": 109,
   "id": "bcabd244-e1e3-46ed-8dac-de99d938e64a",
   "metadata": {},
   "outputs": [
    {
     "name": "stdout",
     "output_type": "stream",
     "text": [
      "Random Forest: Found input variables with inconsistent numbers of samples: [48826, 97652]\n",
      "Logistic Regression: Found input variables with inconsistent numbers of samples: [48826, 97652]\n",
      "SVM: Found input variables with inconsistent numbers of samples: [48826, 97652]\n",
      "Gradient Boosting: Found input variables with inconsistent numbers of samples: [48826, 97652]\n"
     ]
    },
    {
     "data": {
      "image/png": "[encoded data removed]",
      "text/plain": [
       "<Figure size 800x600 with 1 Axes>"
      ]
     },
     "metadata": {},
     "output_type": "display_data"
    }
   ],
   "source": [
    "from sklearn.metrics import roc_curve, auc\n",
    "from sklearn.preprocessing import label_binarize\n",
    "import numpy as np\n",
    "\n",
    "y_test_bin = label_binarize(y_test, classes=np.unique(y))\n",
    "n_classes = y_test_bin.shape[1]\n",
    "\n",
    "plt.figure(figsize=(8,6))\n",
    "for name, model in models.items():\n",
    "    try:\n",
    "        y_score = model.predict_proba(X_test_scaled) if hasattr(model, \"predict_proba\") else model.decision_function(X_test_scaled)\n",
    "        fpr, tpr, _ = roc_curve(y_test_bin.ravel(), y_score.ravel())\n",
    "        roc_auc = auc(fpr, tpr)\n",
    "        plt.plot(fpr, tpr, label=f'{name} (AUC = {roc_auc:.2f})')\n",
    "    except Exception as e:\n",
    "        print(f\"{name}: {e}\")\n",
    "\n",
    "plt.plot([0, 1], [0, 1], 'k--')\n",
    "plt.xlabel('False Positive Rate')\n",
    "plt.ylabel('True Positive Rate')\n",
    "plt.title('AUC-ROC Curve Comparison')\n",
    "plt.legend()\n",
    "plt.grid(True)\n",
    "plt.show()\n"
   ]
  },
  {
   "cell_type": "markdown",
   "id": "5b6b28aa-491d-4070-8cfe-11ae1e107714",
   "metadata": {},
   "source": [
    "**Best Model Selection**"
   ]
  },
  {
   "cell_type": "code",
   "execution_count": 112,
   "id": "886bc38a-1919-40d6-8168-e3e7c720dc3a",
   "metadata": {},
   "outputs": [
    {
     "name": "stdout",
     "output_type": "stream",
     "text": [
      "Best Model Selected: Random Forest\n"
     ]
    }
   ],
   "source": [
    "best_model_name = max(accuracy_scores, key=accuracy_scores.get)\n",
    "best_model = models[best_model_name]\n",
    "print(f\"Best Model Selected: {best_model_name}\")\n"
   ]
  },
  {
   "cell_type": "markdown",
   "id": "1669122f-7eb8-4b42-93f0-6c1b5352e68f",
   "metadata": {},
   "source": [
    "**Save the Best Model**"
   ]
  },
  {
   "cell_type": "code",
   "execution_count": 115,
   "id": "5cbf9837-f92c-4b5f-8754-6921286a317d",
   "metadata": {},
   "outputs": [
    {
     "name": "stdout",
     "output_type": "stream",
     "text": [
      "Best model and scaler saved.\n"
     ]
    }
   ],
   "source": [
    "import joblib\n",
    "joblib.dump(best_model, \"best_ev_model.pkl\")\n",
    "joblib.dump(scaler, \"scaler.pkl\")\n",
    "print(\"Best model and scaler saved.\")\n"
   ]
  },
  {
   "cell_type": "markdown",
   "id": "3af9bf86-c988-4f8a-877c-336490aad46e",
   "metadata": {},
   "source": [
    "**Prediction Interface**"
   ]
  },
  {
   "cell_type": "code",
   "execution_count": 118,
   "id": "5fe5eb5e-a7eb-426d-9196-ee3f60a25a97",
   "metadata": {},
   "outputs": [
    {
     "name": "stdout",
     "output_type": "stream",
     "text": [
      "Predicted EV Type: [0]\n"
     ]
    }
   ],
   "source": [
    "sample = X_test.iloc[0:1]\n",
    "scaled = scaler.transform(sample)\n",
    "print(\"Predicted EV Type:\", best_model.predict(scaled))\n"
   ]
  },
  {
   "cell_type": "markdown",
   "id": "7a275185-429e-4298-9ccb-b708a73707cc",
   "metadata": {},
   "source": [
    "## Key Findings"
   ]
  },
  {
   "cell_type": "markdown",
   "id": "d80b0a3a-b318-4103-bba2-53cefdd53904",
   "metadata": {},
   "source": [
    "- **EV Adoption Concentration**: The majority of electric vehicles are registered in a few key urban areas, indicating concentrated adoption in metropolitan regions.\n",
    "\n",
    "- **Dominant Vehicle Makes**: Brands like **Tesla** and **Nissan** dominate the EV landscape, with Tesla accounting for a significant portion of the dataset.\n",
    "\n",
    "- **Vehicle Type Patterns**: Battery Electric Vehicles (BEVs) are more common than Plug-in Hybrids (PHEVs), suggesting stronger adoption of fully electric mobility.\n",
    "\n",
    "- **Model Year Insights**: Newer models (post-2018) show a significant increase in registrations, reflecting accelerating EV adoption trends in recent years.\n",
    "\n",
    "- **Fuel Type Consistency**: All vehicles are electric, but variations in drivetrain and vehicle type offer valuable segmentation for predictive modeling.\n",
    "\n",
    "- **Imbalanced Classes**: Target variable (`Electric Vehicle Type`) was imbalanced, and **SMOTE** was effectively used to balance the training set.\n",
    "\n",
    "- **Best Performing Model**: Among all trained models, **Random Forest Classifier** delivered the highest accuracy and AUC-ROC score, making it the most reliable for predicting EV types.\n",
    "\n",
    "- **Model Generalization**: The selected model generalizes well on unseen data with high precision and recall, as shown in the evaluation metrics.\n",
    "\n",
    "- **Scalable Pipeline**: The project pipeline is reusable, scalable, and ready for integration into a web application or dashboard for further use.\n"
   ]
  },
  {
   "cell_type": "markdown",
   "id": "93adf60c-7050-4d3d-969b-7d42fdb72884",
   "metadata": {},
   "source": [
    "# **Conclusion**"
   ]
  },
  {
   "cell_type": "markdown",
   "id": "03f040f9-0d64-4f5d-afd7-f1c5e3365771",
   "metadata": {},
   "source": [
    "In this project titled \"Analyzing and Predicting Electric Vehicle Adoption Trends Using Machine Learning\", we explored a comprehensive dataset of electric vehicles registered across various cities in the U.S. The data was thoroughly preprocessed by handling missing values, outliers, skewness, and encoding categorical features. Exploratory Data Analysis revealed valuable insights into vehicle types, popular manufacturers, price ranges, and urban EV penetration."
   ]
  },
  {
   "cell_type": "markdown",
   "id": "14b719f2-3c42-48a2-9378-1e693706506e",
   "metadata": {},
   "source": [
    "we successfully explored, cleaned, and modeled a real-world dataset on electric vehicle registrations to uncover adoption trends and predict EV types. Through preprocessing, we handled missing values, removed duplicates, encoded categorical variables, managed outliers, and balanced class distributions using SMOTE.\n",
    "\n",
    "Multiple machine learning models — including Random Forest, Logistic Regression, SVM, and Gradient Boosting — were trained and evaluated. Based on accuracy and AUC-ROC scores, **Random Forest** (or whichever model performed best) emerged as the most effective in predicting EV types from the available features.\n",
    "\n",
    "This project demonstrates how data-driven approaches can help policymakers, manufacturers, and researchers understand key trends in EV adoption and optimize future planning.\n"
   ]
  },
  {
   "cell_type": "code",
   "execution_count": null,
   "id": "1d7cb440-5508-4fb3-a0c7-5ab3dcf3f0be",
   "metadata": {},
   "outputs": [],
   "source": []
  }
 ],
 "metadata": {
  "kernelspec": {
   "display_name": "Python [conda env:base] *",
   "language": "python",
   "name": "conda-base-py"
  },
  "language_info": {
   "codemirror_mode": {
    "name": "ipython",
    "version": 3
   },
   "file_extension": ".py",
   "mimetype": "text/x-python",
   "name": "python",
   "nbconvert_exporter": "python",
   "pygments_lexer": "ipython3",
   "version": "3.12.7"
  }
 },
 "nbformat": 4,
 "nbformat_minor": 5
}
